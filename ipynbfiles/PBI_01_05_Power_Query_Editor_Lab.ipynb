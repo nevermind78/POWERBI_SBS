{
 "cells": [
  {
   "cell_type": "markdown",
   "metadata": {},
   "source": [
    "# Lab Overview"
   ]
  },
  {
   "cell_type": "markdown",
   "metadata": {},
   "source": [
    "## SCENARIO\n",
    "ABC is a company that manufactures and sells sporting goods. The company has offices in the United States (US) and several other countries. Its sales comprise of US sales and International sales. ABC’s sales come from its owned manufactured products, as well as other manufacturers’ products.\n",
    "\n",
    "ABC's US office stores the sales data on an Access database. ABC International sales transactions are available as comma separated (CSV) files. They could be generated daily, either manually by someone, or automatically by an automated process. They are available in a dedicated folder. These CSV files have the same column structure as the sales table for the US sales that comes from the SQL Database.\n",
    "\n",
    "You want to perform analysis on ABC's worldwide sales data for the year 2000 to 2015. You need to bring all these data into Power BI Desktop before you can perform any analysis. Finally, you want to compare ABC's country sales with the country population. You need to import the country population data from a less structured Excel report to Power BI.\n",
    "\n"
   ]
  },
  {
   "cell_type": "markdown",
   "metadata": {},
   "source": [
    "## LAB OVERVIEW\n",
    "\n",
    "This lab comprises of three exercises:\n",
    "\n",
    "In the first exercise, you will import data to Power BI Desktop from an Access database file.\n",
    "\n",
    "In the second exercise, you will import data from CSV files which resides in a file folder. You will append this new data to the corresponding existing data that comes from the Access Database.\n",
    "\n",
    "In the third exercise, you will import data to Power BI Desktop from an Excel file that is less structured.\n",
    "\n"
   ]
  },
  {
   "cell_type": "markdown",
   "metadata": {},
   "source": [
    "## WHAT YOU'LL NEED\n",
    "\n",
    "A computer with the latest version of Power BI Desktop installed on it.\n",
    "\n",
    "A copy of the `Access Database` containing ABC's US sales data.\n",
    "\n",
    "`4 CSV files`, containing ABC’s international sales data:\n",
    "\n",
    "CA Sales.csv\n",
    "FR Sales.csv\n",
    "DE Sales.csv\n",
    "MX Sales.csv\n",
    "\n",
    "An `Excel` file containing country population data."
   ]
  },
  {
   "cell_type": "markdown",
   "metadata": {},
   "source": [
    "## Import Data from Access Database\n"
   ]
  },
  {
   "cell_type": "markdown",
   "metadata": {},
   "source": [
    "1. Open `Power BI Desktop`.\n",
    "2. Click `Get Data`.\n",
    "3. Click `Access database`, and click `Connect`.\n",
    "4. Navigate to `LabData`, click `PowerBI.accdb`, and click `Open`.\n",
    "5. Select `bi_date, bi_geo, bi_manufacturer, bi_product` and `bi_salesFact` and click `Transform`.\n",
    "6. In Queries, select `bi_salesFact`.\n",
    "7. Select the `Date` column.\n",
    "8. Click the `Transform` ribbon.\n",
    "9. In the `Any Column` group, select `Data Type` and select `Date`.\n",
    "10. Click the drop-down button at the top of the `Date` column.\n",
    "11. Click `Date` Filters and click `After`.\n",
    "12. In the first Enter or select a value field, type 12/31/1999 if you are using MM/DD/YYYY dates and 31/12/1999 if you are using DD/MM/YYYY dates and click OK.\n",
    "\n",
    "    ![](https://github.com/rritec/powerbi/blob/master/images/PBI_0092.png?raw=true)\n",
    "    \n",
    "13. In `Queries`, select `bi_Date`.\n",
    "14. Select the Date column.\n",
    "15. Click the Transform ribbon.\n",
    "16. In the Any Column group, select Data Type and select Date.\n",
    "17. Click the drop-down button at the top of the Date column.\n",
    "18. Click Date Filters and click After.\n",
    "19. In the first Enter or select a value field, type 12/31/1999 if you are using DD/MM/YYYY dates and 31/12/1999 if you are using DD/MM/YYYY dates and click OK.\n",
    "20. Rename the queries as follows:\n",
    "\n",
    "- In Queries, right click **bi_date**, click Rename, replace the text with **Date**, and press Enter.\n",
    "- In Queries, right click **bi_geo**, click Rename, replace the text with **Locations**, and press Enter.\n",
    "- In Queries, right click **bi_manufacturer**, click Rename, replace the text with **Manufacturers**, and press Enter.\n",
    "- In Queries, right click **bi_product**, click Rename, replace the text with **Products**, and press Enter.\n",
    "- In Queries, right click **bi_salesFact**, click Rename, replace the text with **Sales**, and press Enter.\n",
    "\n",
    "    ![](https://github.com/rritec/powerbi/blob/master/images/PBI_0094.png?raw=true)\n",
    "    \n",
    "21. Click the Home ribbon.\n",
    "22. Click **Close and Apply**.\n",
    "23. Click **Data** and explore the imported data in the Data View."
   ]
  },
  {
   "cell_type": "markdown",
   "metadata": {},
   "source": [
    "## Import Data from a Folder Containing CSV Files"
   ]
  },
  {
   "cell_type": "markdown",
   "metadata": {},
   "source": [
    "Continue with your Power BI file from the previous exercise. You want to create a Query for the International sales and append the Query to the Query from US Sales.\n",
    "\n",
    "1. On the **Home** ribbon, click **Get Data** > click **File** > Click **Folder** > click **Connect**.\n",
    "1. In Folder path, go to **labdata/Lab1** and select **International** folder, and click **OK**.\n",
    "\n",
    "    ![](https://github.com/rritec/powerbi/blob/master/images/PBI_0095.png?raw=true)\n",
    "\n",
    "1. Click on **Combine & Transform Data**.\n",
    "\n",
    "    ![](https://github.com/rritec/powerbi/blob/master/images/PBI_0096.png?raw=true)\n",
    "\n",
    "1. Observe data > Click on **ok**\n",
    "    \n",
    "    ![](https://github.com/rritec/powerbi/blob/master/images/PBI_0097.png?raw=true)    \n",
    "\n",
    "1. In **QUERY SETTINGS** change the name to **International Sales**.\n",
    "\n",
    "    ![](https://github.com/rritec/powerbi/blob/master/images/PBI_0098.png?raw=true) \n",
    "    \n",
    "1. Select the **Date** column.\n",
    "1. Click the **Transform** ribbon.\n",
    "1. In the **Any Column** group, select **Data Type** and select **Date**.\n",
    "1. Click the drop-down button at the top of the **Date** column.\n",
    "15. Click **Date Filters** > click **After**.\n",
    "16. In the first Enter or select a value field, type **12/31/1999** if you are using DD/MM/YYYY dates\n",
    "    \n",
    "    ![](https://github.com/rritec/powerbi/blob/master/images/PBI_0099.png?raw=true)\n",
    "    \n",
    "17. In **Queries**, select **Sales**.\n",
    "18. On the **Home** ribbon, click **Append Queries**.\n",
    "19. Select **International Sales** and click **OK**.\n",
    "\n",
    "    ![](https://github.com/rritec/powerbi/blob/master/images/PBI_0100.png?raw=true)\n",
    "    \n",
    "20. On the **Add Column** ribbon > Click on **Custom Column**.\n",
    "21. In New column name type **Country Name**.\n",
    "22. To replace null values with USA, in Custom column formula, type the following formula and click OK:\n",
    "`=if [Country] = null then \"USA\" else [Country]`\n",
    "   ![](https://github.com/rritec/powerbi/blob/master/images/PBI_0101.png?raw=true)\n",
    "    \n",
    "    \n",
    "23. Right-click the header of the **Country** column and click **Remove**.\n",
    "\n",
    "    ![](https://github.com/rritec/powerbi/blob/master/images/PBI_0102.png?raw=true)\n",
    "    \n",
    "24. Click the **Home** ribbon.\n",
    "25. Click **Close & Apply**.\n",
    "26. Click **Data** and explore the imported data in the **Data View**."
   ]
  },
  {
   "cell_type": "markdown",
   "metadata": {},
   "source": [
    "## Import a Less Structured Data from an Excel File\n",
    " "
   ]
  },
  {
   "cell_type": "markdown",
   "metadata": {},
   "source": [
    "Continue with your Power BI file from the previous exercise. You want to import an Excel report containing population data for the countries that VanArsdel operates.\n",
    "\n",
    "1. Import the data from the file folder by clicking **Get Data** > **Excel** > **Connect**.\n",
    "1. Select **..Labdata/lab1/Country Population by Year.xlsx** and click **Open**.\n",
    "\n",
    "    ![](https://github.com/rritec/powerbi/blob/master/images/PBI_0103.png?raw=true)\n",
    "\n",
    "1. Select **Sheet1** and click **Transform Data**.\n",
    "    ![](https://github.com/rritec/powerbi/blob/master/images/PBI_0104.png?raw=true)    \n",
    "    \n",
    "1. In **QUERY SETTINGS** change Name to **Country Population**.\n",
    "1. On the ribbon, click **Remove Rows** > Click **Remove Top Rows** > in **Number of rows** >  type **3** > click **OK**.\n",
    "\n",
    "    ![](https://github.com/rritec/powerbi/blob/master/images/PBI_0105.png?raw=true)\n",
    "    \n",
    "1. On the ribbon, click Use **First Row as Headers**.\n",
    "\n",
    "    ![](https://github.com/rritec/powerbi/blob/master/images/PBI_0106.png?raw=true)    \n",
    "1. Select the **1999** column, hold **Shift** and select the **2014** column.\n",
    "1. On the **Transform** ribbon, click **Unpivot** Columns.\n",
    "1. Right-click the **Attribute** column header and click **Rename**.\n",
    "1. Type **Year** and press **Enter**.\n",
    "1. Right-click the **Value** column header and click **Rename**.\n",
    "1. Type **Population** and press **Enter**.\n",
    "    ![](https://github.com/rritec/powerbi/blob/master/images/PBI_0107.png?raw=true)\n",
    "    \n",
    "1. Click the **drop-down** button on the **Year** header, unselect **1999**, and click **OK**.\n",
    "\n",
    "    ![](https://github.com/rritec/powerbi/blob/master/images/PBI_0108.png?raw=true)\n",
    "    \n",
    "1. Click the **Year** header, on the **Transform** ribbon click **Data Type**, and click **Whole Number**.\n",
    "1. Click the **Population** header, on the **Transform** ribbon click **Data Type**, and click **Whole Number**.\n",
    "1. Click the **Home** ribbon.\n",
    "1. Click **Close & Apply**.\n",
    "1. Load the **data** into Power BI Desktop.\n",
    "1. Explore the imported data in the Data View."
   ]
  },
  {
   "cell_type": "code",
   "execution_count": null,
   "metadata": {},
   "outputs": [],
   "source": []
  }
 ],
 "metadata": {
  "kernelspec": {
   "display_name": "Python 3",
   "language": "python",
   "name": "python3"
  },
  "language_info": {
   "codemirror_mode": {
    "name": "ipython",
    "version": 3
   },
   "file_extension": ".py",
   "mimetype": "text/x-python",
   "name": "python",
   "nbconvert_exporter": "python",
   "pygments_lexer": "ipython3",
   "version": "3.6.9"
  },
  "toc-autonumbering": true
 },
 "nbformat": 4,
 "nbformat_minor": 4
}
