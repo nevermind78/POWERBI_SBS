{
 "cells": [
  {
   "cell_type": "markdown",
   "metadata": {},
   "source": [
    "# Combine Queries\n",
    "---\n",
    "- Append\n",
    "    - Rows appending\n",
    "    - Append rules\n",
    "        - Rule 1: the number of columns in each table is same\n",
    "        - Rule 2: The positions of columns must be same\n",
    "        - Rule 3: The respective columns data types shoud be same \n",
    "\n",
    "- Merge\n",
    "    - Joins"
   ]
  },
  {
   "cell_type": "markdown",
   "metadata": {
    "toc-hr-collapsed": false
   },
   "source": [
    "## Append\n",
    "- **Scenario:** Append emp10,emp20 and emp30 tables as **emp102030**"
   ]
  },
  {
   "cell_type": "markdown",
   "metadata": {},
   "source": [
    "### Sql Query"
   ]
  },
  {
   "cell_type": "markdown",
   "metadata": {},
   "source": [
    "\n",
    "SELECT * INTO [dbo].[emp10] FROM [dbo].[EMP] WHERE DEPTNO=10;\n",
    "\n",
    "SELECT * INTO [dbo].[emp20] FROM [dbo].[EMP] WHERE DEPTNO=20;\n",
    "\n",
    "SELECT * INTO [dbo].[emp30] FROM [dbo].[EMP] WHERE DEPTNO=30;\n",
    "\n",
    "\n",
    "select * from emp10 # 3 rosws\n",
    "\n",
    "union\n",
    "\n",
    "select * from emp20 # 5 rosws\n",
    "\n",
    "union\n",
    "\n",
    "select * from emp30 # 6 rosws"
   ]
  },
  {
   "cell_type": "markdown",
   "metadata": {},
   "source": [
    "### Develop Report using Append homogeneous Sources"
   ]
  },
  {
   "cell_type": "markdown",
   "metadata": {},
   "source": [
    "1. Open **Power BI** > Click on **Get Data** > Select **Databases**> Select **MySql** > Click on **Connect** > Provide **Servername** as **localhost** and **Database Name** as **rritec** > Click on **ok**\n",
    "1. In **Navigator** window Select tables **emp10**,**emp20** and **emp30** > Click on **Transform Data**\n",
    "1. Click on **Append Queries** > **Append Queries as New** > Select radio button **Three or More Tables** > Select required tables and push to right side then click on **ok**\n",
    "\n"
   ]
  },
  {
   "cell_type": "markdown",
   "metadata": {},
   "source": [
    "### Develop Report using Append Hetrogeneous Sources"
   ]
  },
  {
   "cell_type": "markdown",
   "metadata": {},
   "source": [
    "1. In above report import emp30 data from excel **LabData/Lab1/emp30_data_from_excel.XLSX**\n",
    "1. Combine This Excel emp 30 with MySql emp10 and emp20 data\n",
    "\n"
   ]
  },
  {
   "cell_type": "markdown",
   "metadata": {
    "toc-hr-collapsed": false
   },
   "source": [
    "## Merge\n",
    "1. Inner Join\n",
    "1. Left outer Join\n",
    "1. Right Outer Join\n",
    "1. Full Outer Join\n",
    "1. Right Anti Join\n",
    "1. Left Anti Join\n",
    "1. Non Equi Join\n",
    "1. Cross Join\n"
   ]
  },
  {
   "cell_type": "markdown",
   "metadata": {
    "toc-hr-collapsed": true
   },
   "source": [
    "### Inner Join"
   ]
  },
  {
   "cell_type": "markdown",
   "metadata": {},
   "source": [
    "#### Learn Sql Query"
   ]
  },
  {
   "cell_type": "markdown",
   "metadata": {},
   "source": [
    "Select dname,ename,job,sal \\\n",
    "from emp,dept\\\n",
    "where emp.deptno=dept.deptno"
   ]
  },
  {
   "cell_type": "markdown",
   "metadata": {},
   "source": [
    "#### Develop PBI Report using inner Join"
   ]
  },
  {
   "cell_type": "markdown",
   "metadata": {},
   "source": [
    "1. In above Report import **emp** and **dept**\n",
    "1. Click on **Merge Queries** > **Merge Queries as New** > Select Join Columns as shown below >Select Type of Join as **Inner Join** > click on **ok**\n",
    "\n",
    "    ![](https://github.com/rritec/powerbi/blob/master/images/PBI_0033.png?raw=true)\n",
    "1. In **Query Settings** rename **merge1** as **01_Inner_join**\n",
    "1. Expand Dept Table in the **work Area** and **Select all columns** > Click on **ok** > Understand Result of SQL Query in database and powerI result, Both Must be same\n",
    "\n",
    "    ![](https://github.com/rritec/powerbi/blob/master/images/PBI_0034.png?raw=true)"
   ]
  },
  {
   "cell_type": "markdown",
   "metadata": {
    "toc-hr-collapsed": true
   },
   "source": [
    "### Left Outer Join"
   ]
  },
  {
   "cell_type": "markdown",
   "metadata": {},
   "source": [
    "#### Learn Sql Query"
   ]
  },
  {
   "cell_type": "markdown",
   "metadata": {},
   "source": [
    "Select emp.deptno,dname,ename,job,sal \\\n",
    "from emp left outer join dept \\\n",
    "on emp.deptno=dept.deptno"
   ]
  },
  {
   "cell_type": "markdown",
   "metadata": {},
   "source": [
    "#### Develop PBI Report using Left Outer Join"
   ]
  },
  {
   "cell_type": "markdown",
   "metadata": {},
   "source": [
    "1. In above report, In Queries Pane ,select **01_Inner_join** > Right Click and click on **Duplicate**\n",
    "1. In Query Settings rename as **02_Left_outer_Join**\n",
    "1. Click on  **Source** Settings and change **inner join** as **Left Outer Join** \n",
    "1. Click on **ok** \n",
    "1. Observe result\n",
    "1. Notice that Ram Reddy record available even though he is belongs to 50 dept no\n",
    "\n",
    "    ![](https://github.com/rritec/powerbi/blob/master/images/PBI_0035.png?raw=true)"
   ]
  },
  {
   "cell_type": "markdown",
   "metadata": {
    "toc-hr-collapsed": true
   },
   "source": [
    "### Right Outer Join"
   ]
  },
  {
   "cell_type": "markdown",
   "metadata": {},
   "source": [
    "#### Learn Sql Query"
   ]
  },
  {
   "cell_type": "markdown",
   "metadata": {},
   "source": [
    "Select dept.deptno,dname,ename,job,sal \\\n",
    "from emp right outer join dept \\\n",
    "on emp.deptno=dept.deptno"
   ]
  },
  {
   "cell_type": "markdown",
   "metadata": {},
   "source": [
    "#### Develop PBI Report using Right Outer Join"
   ]
  },
  {
   "cell_type": "markdown",
   "metadata": {},
   "source": [
    "1. In above report, In Queries Pane ,select **01_Inner_join** > Right Click and click on **Duplicate**\n",
    "1. In Query Settings rename as **03_Right_outer_Join**\n",
    "1. Click on  **Source** Settings and change **inner join** as **Right Outer Join** \n",
    "1. Click on **ok** \n",
    "1. Observe Result\n",
    "\n",
    "    ![](https://github.com/rritec/powerbi/blob/master/images/PBI_0036.png?raw=true)"
   ]
  },
  {
   "cell_type": "markdown",
   "metadata": {
    "toc-hr-collapsed": true
   },
   "source": [
    "### Full Outer Join"
   ]
  },
  {
   "cell_type": "markdown",
   "metadata": {},
   "source": [
    "#### Learn Sql Query"
   ]
  },
  {
   "cell_type": "markdown",
   "metadata": {},
   "source": [
    "Select dept.deptno,dname,ename,job,sal \\\n",
    "from emp left outer join dept \\\n",
    "on emp.deptno=dept.deptno \\\n",
    "union  \\\n",
    "Select dept.deptno,dname,ename,job,sal \\\n",
    "from emp right outer join dept \\\n",
    "on emp.deptno=dept.deptno "
   ]
  },
  {
   "cell_type": "markdown",
   "metadata": {},
   "source": [
    "#### Develop PBI Report using Full Outer Join"
   ]
  },
  {
   "cell_type": "markdown",
   "metadata": {},
   "source": [
    "1. In above report, In Queries Pane ,select **01_Inner_join** > Right Click and click on **Duplicate**\n",
    "1. In Query Settings rename as **04_Full_outer_Join**\n",
    "1. Click on  **Source** Settings and change **inner join** as **Full Outer Join** \n",
    "1. Click on **ok** \n",
    "1. Observe Result\n",
    "\n",
    "    ![](https://github.com/rritec/powerbi/blob/master/images/PBI_0037.png?raw=true)"
   ]
  },
  {
   "cell_type": "markdown",
   "metadata": {
    "toc-hr-collapsed": true
   },
   "source": [
    "### Left Anti Join"
   ]
  },
  {
   "cell_type": "markdown",
   "metadata": {},
   "source": [
    "#### Learn Sql Query"
   ]
  },
  {
   "cell_type": "markdown",
   "metadata": {},
   "source": [
    "select * from emp \\\n",
    "where deptno not in (select deptno from dept );\n",
    "\n",
    "![](https://github.com/rritec/powerbi/blob/master/images/PBI_0038.png?raw=true)"
   ]
  },
  {
   "cell_type": "markdown",
   "metadata": {},
   "source": [
    "#### Develop PBI Report using Left Anti Join"
   ]
  },
  {
   "cell_type": "markdown",
   "metadata": {},
   "source": [
    "1. In above report, In Queries Pane ,select **01_Inner_join** > Right Click and click on **Duplicate**\n",
    "1. In Query Settings rename as **05_Left_Anti_Join**\n",
    "1. Click on  **Source** Settings and change **inner join** as **Left Anti Join** \n",
    "1. Click on **ok** \n",
    "1. Observe Result\n",
    "\n",
    "    ![](https://github.com/rritec/powerbi/blob/master/images/PBI_0039.png?raw=true)"
   ]
  },
  {
   "cell_type": "markdown",
   "metadata": {
    "toc-hr-collapsed": true
   },
   "source": [
    "### Right Anti Join"
   ]
  },
  {
   "cell_type": "markdown",
   "metadata": {},
   "source": [
    "#### Learn Sql Query"
   ]
  },
  {
   "cell_type": "markdown",
   "metadata": {},
   "source": [
    "select * \\\n",
    "from dept \\\n",
    "where deptno not in (select deptno from emp );"
   ]
  },
  {
   "cell_type": "markdown",
   "metadata": {},
   "source": [
    "![](https://github.com/rritec/powerbi/blob/master/images/PBI_0040.png?raw=true)"
   ]
  },
  {
   "cell_type": "markdown",
   "metadata": {},
   "source": [
    "#### Develop PBI Report using Right Anti Join"
   ]
  },
  {
   "cell_type": "markdown",
   "metadata": {},
   "source": [
    "1. In above report, In Queries Pane ,select **01_Inner_join** > Right Click and click on **Duplicate**\n",
    "1. In Query Settings rename as **06_Right_Anti_Join**\n",
    "1. Click on  **Source** Settings and change **inner join** as **Right Anti Join** \n",
    "1. Click on **ok** \n",
    "1. Observe Result"
   ]
  },
  {
   "cell_type": "markdown",
   "metadata": {},
   "source": [
    "![](https://github.com/rritec/powerbi/blob/master/images/PBI_0041.png?raw=true)"
   ]
  },
  {
   "cell_type": "markdown",
   "metadata": {
    "toc-hr-collapsed": true
   },
   "source": [
    "### Non Equi Join"
   ]
  },
  {
   "cell_type": "markdown",
   "metadata": {},
   "source": [
    "#### Learn Sql Query"
   ]
  },
  {
   "cell_type": "raw",
   "metadata": {},
   "source": [
    "select ename,sal,grade \n",
    "from emp,salgrade \n",
    "where sal between losal and hisal"
   ]
  },
  {
   "cell_type": "markdown",
   "metadata": {},
   "source": [
    "![](https://github.com/rritec/powerbi/blob/master/images/PBI_0042.png?raw=true)"
   ]
  },
  {
   "cell_type": "markdown",
   "metadata": {},
   "source": [
    "#### Develop PBI Report using Non Equi Join\n",
    "1. Click on **Get Data** > Select **Databases**> Select **MySql** > Click on **Connect** > Provide **Servername** as **localhost** and **Database Name** as **rritec** > Click on **Advanced Options** > under **SQL Statement** ,paste above sql > Click on **ok**\n",
    "    ![](https://github.com/rritec/powerbi/blob/master/images/PBI_0043.png?raw=true)\n",
    "    ![](https://github.com/rritec/powerbi/blob/master/images/PBI_0044.png?raw=true)\n",
    "1. In **Query Settings** rename query as **Non Equi Join**\n",
    "1. Observe result    \n",
    "    ![](https://github.com/rritec/powerbi/blob/master/images/PBI_0045.png?raw=true)"
   ]
  },
  {
   "cell_type": "markdown",
   "metadata": {
    "toc-hr-collapsed": true
   },
   "source": [
    "### Cross Join"
   ]
  },
  {
   "cell_type": "markdown",
   "metadata": {},
   "source": [
    "#### Learn Sql Query"
   ]
  },
  {
   "cell_type": "raw",
   "metadata": {},
   "source": [
    "select ename,dname,job,sal \\\n",
    "from emp,dept"
   ]
  },
  {
   "cell_type": "markdown",
   "metadata": {},
   "source": [
    "   ![](https://github.com/rritec/powerbi/blob/master/images/PBI_0046.png?raw=true)"
   ]
  },
  {
   "cell_type": "markdown",
   "metadata": {},
   "source": [
    "#### Develop PBI Report using Cross Join"
   ]
  },
  {
   "cell_type": "markdown",
   "metadata": {},
   "source": [
    "1. In above report, In Queries Pane ,select **01_Inner_join** > Right Click and click on **Duplicate**\n",
    "1. In Query Settings rename as **05_Left_Anti_Join**\n",
    "1. Click on  **Source** Settings and change **inner join** as **Left Anti Join** \n",
    "1. Click on **ok** \n",
    "1. Observe Result\n",
    "\n",
    "    ![](https://github.com/rritec/powerbi/blob/master/images/PBI_0047.png?raw=true)"
   ]
  },
  {
   "cell_type": "markdown",
   "metadata": {},
   "source": [
    "## Home Work: Develop Below reports"
   ]
  },
  {
   "cell_type": "markdown",
   "metadata": {},
   "source": [
    "![](https://github.com/rritec/powerbi/blob/master/images/PBI_0022.png?raw=true)"
   ]
  },
  {
   "cell_type": "code",
   "execution_count": null,
   "metadata": {},
   "outputs": [],
   "source": []
  }
 ],
 "metadata": {
  "kernelspec": {
   "display_name": "Python 3",
   "language": "python",
   "name": "python3"
  },
  "language_info": {
   "codemirror_mode": {
    "name": "ipython",
    "version": 3
   },
   "file_extension": ".py",
   "mimetype": "text/x-python",
   "name": "python",
   "nbconvert_exporter": "python",
   "pygments_lexer": "ipython3",
   "version": "3.6.9"
  },
  "toc-autonumbering": true
 },
 "nbformat": 4,
 "nbformat_minor": 4
}
