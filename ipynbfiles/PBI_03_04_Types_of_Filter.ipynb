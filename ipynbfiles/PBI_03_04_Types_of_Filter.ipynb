{
 "cells": [
  {
   "cell_type": "markdown",
   "metadata": {},
   "source": [
    "# Filter data with Power BI\n",
    "1. Data is the core of Power BI. As you explore reports, each visual draws its underlying data from sources that often contain far more data than you need. \n",
    "1. Power BI offers several ways to filter reports. Knowing how to filter data is the key to finding the right information\n",
    "![](https://docs.microsoft.com/en-us/learn/modules/analyze-data-power-bi/media/2-1/power-bi-filter-intro.gif)"
   ]
  },
  {
   "cell_type": "markdown",
   "metadata": {},
   "source": [
    "## Slicers\n",
    "1. A simple type of filtering that you can use directly on the report page is called a slicer.\n",
    "1. There are several different types of slicers: **numeric**, **categorical**, and **date**. \n",
    "1. Slicers make it easy to filter all the visuals on the page at once.\n",
    "\n",
    "    ![](https://docs.microsoft.com/en-us/learn/modules/analyze-data-power-bi/media/2-1/power-bi-slicers.gif)\n",
    "1.If you want to select more than one field, hold the Ctrl key and click additional fields.    "
   ]
  },
  {
   "cell_type": "markdown",
   "metadata": {},
   "source": [
    "## Explore the Filters pane\n",
    "1. Another way to filter data is by opening and modifying filters in the Filters pane. The Filters pane contains filters that were added to the report by the report designer. As a consumer, you can interact with the filters and save your changes but can't add new filters."
   ]
  },
  {
   "cell_type": "markdown",
   "metadata": {},
   "source": [
    "The **four types** of filters are:\n",
    "\n",
    "1. **Filter on all pages** or **Report Level Filter** > Applies to all pages in the report.\n",
    "1. **Filter on this Page** or **Page Level Filter** – Applies to all the visuals on the current report page.\n",
    "1. **Visual level Filter** – Applies to a single visual on a report page. You only see visual level filters if you've selected a visual on the report canvas.\n",
    "1. **Drillthrough Filter** – Allows you to explore successively more detailed views within a single visual.\n",
    "    ![](https://docs.microsoft.com/en-us/learn/modules/analyze-data-power-bi/media/2-1/power-bi-filter-types.png)"
   ]
  },
  {
   "cell_type": "markdown",
   "metadata": {},
   "source": [
    "### Filter on all pages or Report Level Filter\n",
    "1. Open **Labdata/Lab3/Lab 3 - Starting.pbix**\n",
    "1. Click on **New page** and rename it as **USA Region Wise Sales**\n",
    "1. In **Visulizations**> Click on **Table**\n",
    "1. From **Fields** > select **Country**,**Region** and **Total Sales**\n",
    "1. Our report will be looks like below image\n",
    "\n",
    "    ![](https://github.com/rritec/powerbi/blob/master/images/PBI_0072.png?raw=true)\n",
    "1. Right click on **USA Region Wise Sales** > Click on **Duplicate Page**\n",
    "1. Rename page as **USA Region Wise Units**\n",
    "1. Delete column **Total Sales** and drag **Total Units**\n",
    "1. Drag and drop **Country** column below **Filter on all Pages** > Select **USA** > observe reports data in both the pages\n",
    "    \n",
    "    ![](https://github.com/rritec/powerbi/blob/master/images/PBI_0073.png?raw=true)"
   ]
  },
  {
   "cell_type": "markdown",
   "metadata": {},
   "source": [
    "### Filter on this Page or Page Level Filter\n",
    "1. In above report **USA Region Wise Sales** > drag and drop **year** column onto **Filters on this page** > show only sales **greater than or equal** to **2006** and **less than or equal** to **2010**\n",
    "\n",
    "    ![](https://github.com/rritec/powerbi/blob/master/images/PBI_0074.png?raw=true)\n",
    "    \n",
    "1. Observe report data"
   ]
  },
  {
   "cell_type": "markdown",
   "metadata": {},
   "source": [
    "### Filter on this Visual\n",
    "1. In above report **USA Region Wise Sales** > select **table visulization** > provide region filter as shown in below image \n",
    "\n",
    "    ![](https://github.com/rritec/powerbi/blob/master/images/PBI_0075.png?raw=true)\n",
    "    \n",
    "1. Observe report data\n"
   ]
  },
  {
   "cell_type": "markdown",
   "metadata": {},
   "source": [
    "### Drill Through\n",
    "1. Refer previous lesson\n"
   ]
  },
  {
   "cell_type": "markdown",
   "metadata": {},
   "source": [
    "### Reference\n",
    "[Refer and completed learning path](https://docs.microsoft.com/en-us/learn/modules/analyze-data-power-bi/1-filtering-data)"
   ]
  },
  {
   "cell_type": "code",
   "execution_count": null,
   "metadata": {},
   "outputs": [],
   "source": []
  }
 ],
 "metadata": {
  "kernelspec": {
   "display_name": "Python 3",
   "language": "python",
   "name": "python3"
  },
  "language_info": {
   "codemirror_mode": {
    "name": "ipython",
    "version": 3
   },
   "file_extension": ".py",
   "mimetype": "text/x-python",
   "name": "python",
   "nbconvert_exporter": "python",
   "pygments_lexer": "ipython3",
   "version": "3.6.9"
  }
 },
 "nbformat": 4,
 "nbformat_minor": 4
}
