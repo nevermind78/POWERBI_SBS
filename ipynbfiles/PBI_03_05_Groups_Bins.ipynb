{
 "cells": [
  {
   "cell_type": "markdown",
   "metadata": {},
   "source": [
    "# Grouping and Binning"
   ]
  },
  {
   "cell_type": "markdown",
   "metadata": {},
   "source": [
    "## Grouping\n",
    "1. Open file **Labdata/Lab3/Lab 3 - Starting.pbix** file.\n",
    "1. Expand **products** > Right click on **Segment** > Click on **New Group** > select as shown below\n",
    "\n",
    "    ![](https://github.com/rritec/powerbi/blob/master/images/PBI_0112.png?raw=true)\n",
    "\n",
    "1. click on **pie chart**\n",
    "1. drag **segment(groups)** into legend\n",
    "1. drag **totalsales** into values\n",
    "1. observe report\n",
    "\n",
    "    ![](https://github.com/rritec/powerbi/blob/master/images/PBI_0113.png?raw=true)\n"
   ]
  },
  {
   "cell_type": "markdown",
   "metadata": {},
   "source": [
    "## Binning\n",
    "1. Import **scott excel** file from **Labdata/Lab1**\n",
    "1. Right click on sal column and develop as shown\n",
    "\n",
    "    ![](https://github.com/rritec/powerbi/blob/master/images/PBI_0114.png?raw=true)\n",
    "    \n",
    "1. develop a report as shown\n",
    "\n",
    "    ![](https://github.com/rritec/powerbi/blob/master/images/PBI_0115.png?raw=true)"
   ]
  },
  {
   "cell_type": "markdown",
   "metadata": {},
   "source": [
    "Reference: https://docs.microsoft.com/en-us/power-bi/desktop-grouping-and-binning"
   ]
  },
  {
   "cell_type": "code",
   "execution_count": null,
   "metadata": {},
   "outputs": [],
   "source": []
  }
 ],
 "metadata": {
  "kernelspec": {
   "display_name": "Python 3",
   "language": "python",
   "name": "python3"
  },
  "language_info": {
   "codemirror_mode": {
    "name": "ipython",
    "version": 3
   },
   "file_extension": ".py",
   "mimetype": "text/x-python",
   "name": "python",
   "nbconvert_exporter": "python",
   "pygments_lexer": "ipython3",
   "version": "3.6.9"
  },
  "toc-autonumbering": true
 },
 "nbformat": 4,
 "nbformat_minor": 4
}
