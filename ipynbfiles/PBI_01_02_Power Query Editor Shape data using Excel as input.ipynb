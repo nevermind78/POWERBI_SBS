{
 "cells": [
  {
   "cell_type": "markdown",
   "metadata": {},
   "source": [
    "# Power Query Editor\n",
    "- It is also known as `Power Query`\n"
   ]
  },
  {
   "cell_type": "markdown",
   "metadata": {},
   "source": [
    "## Import scott data from excel\n",
    "1. Open **Power BI Desktop** > Click on **Get Data** > Click on **File** > Click on **Excel**\n",
    "\n",
    "    ![](https://github.com/rritec/powerbi/blob/master/images/PBI_0081.png?raw=true)\n",
    "    \n",
    "1. Click on **Connect** > Select **Labdata/Lab1/scottdata.xlsx** > Click on **open**\n",
    "1. In **Navigator** select all three tables > Click on **Transform Data**\n",
    "\n",
    "    ![](https://github.com/rritec/powerbi/blob/master/images/PBI_0082.png?raw=true)"
   ]
  },
  {
   "cell_type": "markdown",
   "metadata": {},
   "source": [
    "## Power Query has `5` main parts\n",
    "1. Menu Bar\n",
    "1. Queries Pane\n",
    "1. Work area\n",
    "1. Query Settings Pane\n",
    "1. Formula Bar"
   ]
  },
  {
   "cell_type": "markdown",
   "metadata": {},
   "source": [
    "## Replace in `emp` table `comm` column `null` with `0`\n",
    "1. In **Queries** pane  > Select **emp** table > select **comm** column\n",
    "1. In the **toolbar** > Click on **Replace Values** > type as shown in below image\n",
    "    ![](https://github.com/rritec/powerbi/blob/master/images/PBI_0083.png?raw=true)\n",
    "\n"
   ]
  },
  {
   "cell_type": "markdown",
   "metadata": {},
   "source": [
    "## Create `totalsal` column\n",
    "1. In the **Menu bar** > Click on **Add Column** > Click on **Custom Column** > Name it as **totalsal**\n",
    "1. Develop formula as shown in below image > Click on **ok**\n",
    "\n",
    "    ![](https://github.com/rritec/powerbi/blob/master/images/PBI_0084.png?raw=true)\n",
    "1. Observe output\n",
    "   \n",
    "   ![](https://github.com/rritec/powerbi/blob/master/images/PBI_0086.png?raw=true)"
   ]
  },
  {
   "cell_type": "markdown",
   "metadata": {},
   "source": [
    "## Rename column name `ename` as `Employee Name`\n",
    "1. In **Queries** pane > select **emp** > Right click on **ename** column \n",
    "\n",
    "    ![](https://github.com/rritec/powerbi/blob/master/images/PBI_0087.png?raw=true)\n",
    "    \n",
    "1. Click on **rename** and name it as **Employee Name** > press enter\n",
    "\n",
    "    ![](https://github.com/rritec/powerbi/blob/master/images/PBI_0088.png?raw=true)\n"
   ]
  },
  {
   "cell_type": "markdown",
   "metadata": {},
   "source": [
    "## Data Types\n",
    "1. Decimal Number\n",
    "2. Fixed Decimal Number\n",
    "3. Whole Number\n",
    "4. Percentage\n",
    "5. Date/Time\n",
    "6. Date\n",
    "7. Time\n",
    "8. Date/Time/Timezone\n",
    "9. Duration\n",
    "10. Text\n",
    "11. True/False\n",
    "12. Binary"
   ]
  },
  {
   "cell_type": "markdown",
   "metadata": {},
   "source": [
    "## AutoFilter/Basic Filter"
   ]
  },
  {
   "cell_type": "markdown",
   "metadata": {},
   "source": [
    "### Filter `Job` column to display only `MANAGER` and `ANALYST`"
   ]
  },
  {
   "cell_type": "markdown",
   "metadata": {},
   "source": [
    "### Filter `Hiredate` column to display only greater than `01-Jan-1982`"
   ]
  },
  {
   "cell_type": "markdown",
   "metadata": {},
   "source": [
    "### Filter `sal` column to display only greater than `2400`"
   ]
  },
  {
   "cell_type": "markdown",
   "metadata": {},
   "source": [
    "### Filter `Job` and `sal` column to get `managers` info whoms cost to company(CTC) is more than `2500`"
   ]
  },
  {
   "cell_type": "markdown",
   "metadata": {},
   "source": [
    "## Reference \n",
    "https://docs.microsoft.com/en-us/power-bi/desktop-add-custom-column\n",
    "\n",
    "https://docs.microsoft.com/en-us/powerquery-m/power-query-m-function-reference"
   ]
  },
  {
   "cell_type": "code",
   "execution_count": null,
   "metadata": {},
   "outputs": [],
   "source": []
  }
 ],
 "metadata": {
  "kernelspec": {
   "display_name": "Python 3",
   "language": "python",
   "name": "python3"
  },
  "language_info": {
   "codemirror_mode": {
    "name": "ipython",
    "version": 3
   },
   "file_extension": ".py",
   "mimetype": "text/x-python",
   "name": "python",
   "nbconvert_exporter": "python",
   "pygments_lexer": "ipython3",
   "version": "3.6.9"
  },
  "toc-autonumbering": true
 },
 "nbformat": 4,
 "nbformat_minor": 4
}
