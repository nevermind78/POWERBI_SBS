{
 "cells": [
  {
   "cell_type": "markdown",
   "metadata": {},
   "source": [
    "# Known Issues"
   ]
  },
  {
   "cell_type": "markdown",
   "metadata": {},
   "source": [
    "## MySQL Public Key Retrieval is not allowed\n",
    "1. Go to **DBeaver:**\n",
    "1. Right click your connection, choose **Edit Connection**\n",
    "\n",
    "    ![](https://github.com/rritec/powerbi/blob/master/images/PBI_0028.png?raw=true)\n",
    "\n",
    "1. On the **Connection settings** screen (main screen) click on **Edit Driver Settings**\n",
    "1. Click on **Connection propertie**\n",
    "1. Right click the **user properties** area and choose **Add new property**\n",
    "1. Add two properties: **useSSL** and **allowPublicKeyRetrieval**\n",
    "1. Set their values to  **false** and **true** by double clicking under the **value** column\n",
    "   \n",
    "   ![](https://github.com/rritec/powerbi/blob/master/images/PBI_0029.png?raw=true)\n",
    "    \n",
    "1. Save and re-test the connection. Hopefully it should work!\n",
    "\n",
    "    ![](https://github.com/rritec/powerbi/blob/master/images/PBI_0029.png?raw=true)"
   ]
  },
  {
   "cell_type": "code",
   "execution_count": null,
   "metadata": {},
   "outputs": [],
   "source": []
  }
 ],
 "metadata": {
  "kernelspec": {
   "display_name": "Python 3",
   "language": "python",
   "name": "python3"
  },
  "language_info": {
   "codemirror_mode": {
    "name": "ipython",
    "version": 3
   },
   "file_extension": ".py",
   "mimetype": "text/x-python",
   "name": "python",
   "nbconvert_exporter": "python",
   "pygments_lexer": "ipython3",
   "version": "3.6.9"
  }
 },
 "nbformat": 4,
 "nbformat_minor": 4
}
