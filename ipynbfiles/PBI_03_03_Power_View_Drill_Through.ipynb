{
 "cells": [
  {
   "cell_type": "markdown",
   "metadata": {},
   "source": [
    "# Drill Through"
   ]
  },
  {
   "cell_type": "markdown",
   "metadata": {},
   "source": [
    "## Develop a Master Report\n",
    "- In **Visulizations** > click on **Donut** Chart\n",
    "- In **Fields** Pane > Click on **Category** and **Total Sales**\n",
    "\n",
    "    ![](https://github.com/rritec/powerbi/blob/master/images/PBI_0063.png?raw=true)\n",
    "    \n",
    "- Rename page as **Master**\n",
    "    \n",
    "    ![](https://github.com/rritec/powerbi/blob/master/images/PBI_0064.png?raw=true)\n"
   ]
  },
  {
   "cell_type": "markdown",
   "metadata": {},
   "source": [
    "## Develop a Detail Report\n",
    "1. In **Visulizations** > click on **Table** Chart\n",
    "1. In **Fields** Pane > Click on **Category** , **Segment** and **Total Sales**\n",
    "    \n",
    "    ![](https://github.com/rritec/powerbi/blob/master/images/PBI_0065.png?raw=true)\n",
    "1. Select **Drill Through** and drag drop **Category**\n",
    "\n",
    "    ![](https://github.com/rritec/powerbi/blob/master/images/PBI_0066.png?raw=true)\n",
    "    \n",
    "1. Rename page as **Detail**\n",
    "1. Go Back to to **Master** page > Right Click on **urban** Category > Drill Through > Detail\n",
    "\n",
    "    ![](https://github.com/rritec/powerbi/blob/master/images/PBI_0068.png?raw=true)\n",
    "1. Observe output of detail report\n",
    "\n",
    "    ![](https://github.com/rritec/powerbi/blob/master/images/PBI_0069.png?raw=true)\n"
   ]
  },
  {
   "cell_type": "markdown",
   "metadata": {},
   "source": [
    "Refer: https://docs.microsoft.com/en-us/power-bi/desktop-drillthrough"
   ]
  },
  {
   "cell_type": "code",
   "execution_count": null,
   "metadata": {},
   "outputs": [],
   "source": []
  }
 ],
 "metadata": {
  "kernelspec": {
   "display_name": "Python 3",
   "language": "python",
   "name": "python3"
  },
  "language_info": {
   "codemirror_mode": {
    "name": "ipython",
    "version": 3
   },
   "file_extension": ".py",
   "mimetype": "text/x-python",
   "name": "python",
   "nbconvert_exporter": "python",
   "pygments_lexer": "ipython3",
   "version": "3.6.9"
  }
 },
 "nbformat": 4,
 "nbformat_minor": 4
}
