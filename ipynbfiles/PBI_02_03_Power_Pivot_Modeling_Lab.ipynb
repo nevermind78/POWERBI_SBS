{
 "cells": [
  {
   "cell_type": "markdown",
   "metadata": {},
   "source": [
    "# `Power BI Desktop Modelling`\n",
    "- It is also knon as **Power Pivot**\n",
    "- In power pivot mainly we will do\n",
    "    - Relation Ships(Among Queries)\n",
    "    - DAX Formulas"
   ]
  },
  {
   "cell_type": "markdown",
   "metadata": {},
   "source": [
    "## SCENARIO\n",
    "VanArsdel is a company that manufactures and sells sporting goods. The company has offices in the United States (US) and several other countries. Its sales comprise of US sales and International sales. VanArsdel’s sales come from its owned manufactured products, as well as other manufacturers’ products.\n",
    "\n",
    "You have successfully brought the US sales data from the Access database and the International sales data from a collection of CSV files to Power BI Desktop. \n",
    "\n",
    "Before you can start analyzing your data, you need to manage the table relationships within your data model and create new ones if necessary. To do so, you might need to create calculated columns or calculated tables for the relationships to be based on.\n",
    "Once you have all the relationships created, you can create visualizations and start to analyze the data. However, you need to create additional measures to perform more advanced analysis with your data, which includes:\n",
    "\n",
    "- Comparing current year YTD sales and last year YTD sales.\n",
    "- Comparing sales of VanArsdel's manufactured goods to other manufacturers.\n"
   ]
  },
  {
   "cell_type": "markdown",
   "metadata": {},
   "source": [
    "## LAB OVERVIEW"
   ]
  },
  {
   "cell_type": "markdown",
   "metadata": {},
   "source": [
    "In this lab, you will create \n",
    "    - calculated columns \n",
    "    - calculated tables\n",
    "    - create table relationships in your data model based on the calculated columns and tables you created. \n",
    "In addition, you will write several DAX expressions to create measures to be used to analyze VanArsdel’s sales data. Specifically, you will create the following measures:\n",
    "1. `Total Sales:` calculates the total sales.\n",
    "2. `LY Sales:` calculates last year sales.\n",
    "3. `Sales Var:` calculates sales variance between this year and last year sales.\n",
    "4. `Sales Var %:` calculates sales variance between this year and last year sales in percentage.\n",
    "5. `YTD Sales:` calculates YTD sales.\n",
    "6. `LY YTD Sales:` calculates last year YTD sales.\n",
    "7. `YTD Sales Var:` calculates sales variance between this year and last year YTD sales.\n",
    "8. `YTD Sales Var %:` calculates sales variance between this year and last year YTD sales in percentage.\n",
    "9. `Total VanArsdel Sales:` calculates sales for VanArsdel manufactured goods.\n",
    "10. `% Sales Market Share:` calculates the percentage of VanArsdel manufactured goods from the total sales.\n",
    "\n"
   ]
  },
  {
   "cell_type": "markdown",
   "metadata": {},
   "source": [
    "## WHAT YOU’LL NEED\n",
    "The “Lab 2 - Starting.pbix” file"
   ]
  },
  {
   "cell_type": "markdown",
   "metadata": {},
   "source": [
    "## Exercise 1- Manage Table Relationships\n",
    "Power BI Desktop has automatically detected and created table relationships. So the first step is to ensure all the relationships are properly created, and if not, create them yourselves.\n",
    "\n",
    "\n",
    "1. Open the `Lab2 - Starting.pbix` file from our `Labdata/Lab2 folder`.\n",
    "2. In the navigation pane on the left, click `Model`\n",
    "\n",
    "    ![](https://github.com/rritec/powerbi/blob/master/images/PBI_0000.png?raw=true).\n",
    "    \n",
    "3. Notice that there is a **many to one** relationship from the `ProductID` column on the `Sales` table to the `ProductID` column on the `Products` table.\n",
    "\n",
    "    ![](https://github.com/rritec/powerbi/blob/master/images/PBI_0002.png?raw=true)\n",
    "    \n",
    "4. Notice that there is a **many to one** relationship from the `ManufacturerID` column on the `Products` table to the `ManufacturerID` column on the `Manufacturers` table.\n",
    "\n",
    "    ![](https://github.com/rritec/powerbi/blob/master/images/PBI_0004.png?raw=true)\n",
    "\n",
    "5. Drag the `Date` column on the `Sales` table to the `Date` column on the `Date` table.\n",
    "    \n",
    "    ![](https://github.com/rritec/powerbi/blob/master/images/PBI_0003.png?raw=true)\n",
    "    \n",
    "6. Now you want to create a relationship between the `Sales` table and the `Locations` table. First, you merge the `Country` and `Zip` columns in both `Sales` and `Locations` table as a new column, `CountryZip`. Then, you create a relationship on the `CountryZip` column for both tables.\n",
    "    - In the `navigation pane` on the left, click `Data`\n",
    "    \n",
    "        ![](https://github.com/rritec/powerbi/blob/master/images/PBI_0005.png?raw=true).\n",
    "        \n",
    "    - In the navigation pane on the right, click `Location`.\n",
    "    - On the Modeling ribbon, click New Column.\n",
    "    - In the formula bar for the new column, type `CountryZip = Locations[Country] & \", \" & Locations[Zip]`, and press `Enter`.\n",
    "        \n",
    "        ![](https://github.com/rritec/powerbi/blob/master/images/PBI_0008.png?raw=true)\n",
    "        \n",
    "    - In the navigation pane on the right, click Sales.\n",
    "    - On the Modeling ribbon, click New Column.\n",
    "    - In the formula bar for the new column, type `CountryZip = Sales[Country Name] & \", \" & Sales[Zip]`, and press `Enter`.\n",
    "        \n",
    "        ![](https://github.com/rritec/powerbi/blob/master/images/PBI_0006.png?raw=true)\n",
    "        \n",
    "    - In the navigation pane on the left, click **Model**.\n",
    "    - Drag the **CountryZip** column on the **Sales** table to the **CountryZip** column on the **Locations** table.\n",
    "    \n",
    "        ![](https://github.com/rritec/powerbi/blob/master/images/PBI_0007.png?raw=true)\n",
    "        \n",
    "16. Click **Save**, to save the Power BI file."
   ]
  },
  {
   "cell_type": "markdown",
   "metadata": {},
   "source": [
    "## Exercise 2- Last Year Comparison\n",
    "\n",
    "- You want to know how much sales (revenue) in total does the VanArsdel have and to compare this with the figure from the same period last year. You need to create several calculated measures to help with this comparison. To do so, in either the Report view or the Data view, right-click the Sales table, click New Measure, and type in the corresponding DAX formulas for the measure you want to create. This will create the measures with the Home Table properties set to the Sales table.\n",
    "- Specifically, you will create the following measures:\n",
    "    - `Total Sales:` calculates the total sales. Format this measure as Currency. (Hint: Check out the SUM function).\n",
    "    - `LY Sales:` calculates last year sales. Format this measure as Currency. (Hint: You might find the CALCULATE and SAMEPERIODLASTYEAR function useful).\n",
    "    - `Sales Var:` calculates sales variance between this year and last year sales. Format this measure as Currency. (Hint: This is simply the difference between Total Sales and LY Sales).\n",
    "    - `Sales Var %:` calculates sales variance between this year and last year sales in percentage. Format this measure as Percentage. (Hint: This is simply the percentage of Sales Var from LY Sales. You might find the DIVIDE function useful).\n",
    "\n",
    "1. In the navigation pane on the left, click `Data`\n",
    "    ![](https://github.com/rritec/powerbi/blob/master/images/PBI_0005.png?raw=true).\n",
    "2. In the navigation pane on the right, click `Sales`.\n",
    "3. On the Modeling ribbon, click `New Measure`.\n",
    "4. In the formula bar for the new measure, type `Total Sales = SUM(Sales[Revenue])`, and press `Enter`.\n",
    "\n",
    "    ![](https://github.com/rritec/powerbi/blob/master/images/PBI_0009.png?raw=true)\n",
    "\n",
    "5. On the `Modeling` ribbon, click `Format`, click `Currency`, and click `Currency general`.\n",
    "6. On the Modeling ribbon, click New Measure.\n",
    "7. In the formula bar for the new measure, type `LY Sales = CALCULATE([Total Sales],SAMEPERIODLASTYEAR(‘Date’[Date]))`, and press `Enter`.\n",
    "\n",
    "    ![](https://github.com/rritec/powerbi/blob/master/images/PBI_0010.png?raw=true)\n",
    "\n",
    "8. On the `Modeling` ribbon, click `Format`, click `Currency`, and click `Currency general`.\n",
    "9. On the `Modeling` ribbon, click `New Measure`.\n",
    "10. In the formula bar for the new measure, type `Sales Var = [Total Sales] - [LY Sales]`, and press `Enter`.\n",
    "\n",
    "    ![](https://github.com/rritec/powerbi/blob/master/images/PBI_0011.png?raw=true)\n",
    "\n",
    "11. On the `Modeling` ribbon, click `Format`, click `Currency`, and click `Currency general`.\n",
    "12. On the `Modeling` ribbon, click `New Measure`.\n",
    "13. In the formula bar for the `new measure`, type `Sales Var % = DIVIDE([Sales Var],[LY Sales]) * 100`, and press `Enter`.\n",
    "\n",
    "    \n",
    "14. On the `Modeling` ribbon, click `Format`, and click `Percentage`.\n",
    "15. Click `Save`, to save the Power BI file.\n",
    "16. Develop below report and understand results\n",
    "\n",
    "    ![](https://github.com/rritec/powerbi/blob/master/images/PBI_0109.png?raw=true)"
   ]
  },
  {
   "cell_type": "markdown",
   "metadata": {},
   "source": [
    "`Home Work:`\n",
    "- Total Units: Total Units = SUM(Sales[Units])\n",
    "- LY Total Units: LY Total Units = CALCULATE([Total Units],SAMEPERIODLASTYEAR(‘Date’[Date])\n",
    "- Total Units Var: Total Units Var = [Total Units] - [LY Total Units]\n",
    "- Total Units Var %: Total Units Var % = DIVIDE([Total Units Var],[LY Total Units])\n"
   ]
  },
  {
   "cell_type": "markdown",
   "metadata": {},
   "source": [
    "## Exercise 3- Year to Date\n",
    "- Year-to-date (YTD) is a period starting from the beginning of the current year and continuing up to the present date. You want to calculate the YTD sales and compare this with the figure from the same period last year. Specifically, you will create the following measures:\n",
    "    - YTD Sales: calculates the YTD sales. Format this measure as Currency. (Hint: Check out the TOTALYTD function).\n",
    "    \n",
    "    ![](https://github.com/rritec/powerbi/blob/master/images/PBI_0013.png?raw=true)\n",
    "    \n",
    "    - LY YTD Sales: calculates last year YTD sales. Format this measure as Currency. (Hint: You might find the CALCULATE and SAMEPERIODLASTYEAR function useful).\n",
    "    \n",
    "    ![](https://github.com/rritec/powerbi/blob/master/images/PBI_0014.png?raw=true)\n",
    "    \n",
    "    - YTD Sales Var: calculates sales variance between this year and last year YTD sales. Format this measure as Currency. (Hint: This is simply the difference between YTD Sales and LY YTD Sales).\n",
    "    \n",
    "    ![](https://github.com/rritec/powerbi/blob/master/images/PBI_0015.png?raw=true)\n",
    "    \n",
    "    - YTD Sales Var %: calculates sales variance between this year and last year YTD sales in percentage. Format this measure as Percentage. (Hint: This is simply the percentage of YTD Sales Var from LY YTD Sales. You might find the DIVIDE function useful).\n",
    "    \n",
    "    ![](https://github.com/rritec/powerbi/blob/master/images/PBI_0017.png?raw=true)\n",
    "    \n",
    "    ![](https://github.com/rritec/powerbi/blob/master/images/PBI_0110.png?raw=true)\n",
    "    "
   ]
  },
  {
   "cell_type": "markdown",
   "metadata": {},
   "source": [
    "`Home Work:`\n",
    "1. YTD Total Units: YTD Total Units = TOTALYTD([Total Units],‘Date’[Date])\n",
    "2. LY YTD Total Units: LY YTD Total Units = CALCULATE([YTD Total Units],SAMEPERIODLASTYEAR(‘Date’[Date]))\n",
    "3. YTD Total Units Var: YTD Total Units Var = [YTD Total Units]- [LY YTD Total Units]\n",
    "4. YTD Total Units Var %: YTD Total Units Var % = DIVIDE([YTD Total Units Var],[LY YTD Total Units])"
   ]
  },
  {
   "cell_type": "markdown",
   "metadata": {},
   "source": [
    "## Exercise 4- Market Share\n",
    "\n",
    "- VanArsdel sales comprise of products manufactured by VanArsdel and other companies. You want to know how much of these sales are VanArsdel’s own manufactured products. You decide to show this share in numbers and %. Specifically, you will create the following measures:\n",
    "- Total VanArsdel Sales: calculates sales where the products manufacturer is VanArsdel. Format this measure as Currency. (Hint: Use the CALCULATE function and filter by Manufacturer).\n",
    "- % Sales Market Share: calculates the percentage of sales of VanArsdel manufactured products from the total sales. Format this measure as Percentage.\n",
    "\n",
    "1. In the navigation pane on the left, click `Data`.\n",
    "2. In the navigation pane on the right, click `Sales`.\n",
    "3. On the `Modeling` ribbon, click `New Measure`.\n",
    "4. In the formula bar for the new measure, type `Total VanArsdel Sales = CALCULATE([Total Sales],Manufacturer[Manufacturer]=\"VanArsdel\")`, and press `Enter`.\n",
    "\n",
    "    ![](https://github.com/rritec/powerbi/blob/master/images/PBI_0019.png?raw=true)\n",
    "\n",
    "5. On the `Modeling` ribbon, click `New Measure`.\n",
    "6. In the formula bar for the new measure, type `% Sales Market Share = IF([Total VanArsdel Sales]=0,0,DIVIDE([Total VanArsdel Sales],[Total Sales],0))`, and press `Enter`.\n",
    "\n",
    "    ![](https://github.com/rritec/powerbi/blob/master/images/PBI_0018.png?raw=true)\n",
    "\n",
    "7. On the `Modeling` ribbon, click `Format`, and click `Percentage`.\n",
    "8. Click `Save`, to save the Power BI file.\n",
    "\n",
    "![](https://github.com/rritec/powerbi/blob/master/images/PBI_0111.png?raw=true)"
   ]
  },
  {
   "cell_type": "markdown",
   "metadata": {},
   "source": [
    "`Home Work:`\n",
    "- Total VanArsdel Units: Total VanArsdel Units = CALCULATE([Total Units],Manufacturers[Manufacturer]=“VanArsdel”)\n",
    "- % Units Market Share: % Units Market Share = IF([Total VanArsdel Units]=0,0,DIVIDE([Total VanArsdel Units],[Total Units],0))\n"
   ]
  },
  {
   "cell_type": "markdown",
   "metadata": {},
   "source": [
    "## Exercise 5- Optimize the Data Model\n",
    "\n",
    "1. Now that you have the table relationships defined and the measures created, you want to optimize the data model before you create the visualizations.\n",
    "1. If it is not already open, open the Lab 2 - Starting.pbix file.\n",
    "1. Ensure both the **International Sales** and **Country Population** table are hidden from the report view using the following steps.\n",
    "1. In the navigation pane on the left, click `Data`.\n",
    "1. In the navigation pane on the right, click the ellipses (...) adjacent to - `International Sales` and click `Hide in report view`.\n",
    "1. In the navigation pane on the right, click the ellipses (...) adjacent to `Country Population` and click Hide in report view.\n",
    "1. Hide the following fields on the `Date` table from the report view:\n",
    "    - MonthNo\n",
    "    - MonthID\n",
    "    - Month\n",
    "        - In the navigation pane on the right, click `Date`, click the ellipses (...) adjacent to `MonthNo` and click `Hide in report view`.\n",
    "        - In the navigation pane on the right, click Date, click the ellipses(...) adjacent to `MonthID` and click `Hide in report view`.\n",
    "        - In the navigation pane on the right, click Date, click the ellipses(...) adjacent to `Month` and click `Hide in report view`.\n",
    "5. Sort the MonthName column by the MonthNo column using the following steps.\n",
    "    - Click the `MonthName` column and, on the Modeling ribbon, click `Sort by Column`, and click `MonthNo`.\n",
    "9. Hide the `CountryZip` field on the `Location` table and the `ManufacturerID` field on the `Manufacturer` table from the report view using the following steps.\n",
    "    - In the navigation pane on the right, click Location, click the ellipses adjacent to CountryZip and click Hide in report view.\n",
    "    - In the navigation pane on the right, click Manufacturer, click the ellipses adjacent to ManufacturerID and click Hide in report view.\n",
    "10. Hide the following fields on the **Products** table from the report view.\n",
    "    - ProductID\n",
    "    - ManufacturerID\n",
    "    - Manufacturer\n",
    "        - In the navigation pane on the right, click Products, click the ellipses(...) adjacent to ProductID and click Hide in report view.\n",
    "        - Click the ellipses adjacent to ManufacturerID and click Hide in report view.\n",
    "        - Click the ellipses adjacent to Manufacturer and click Hide in report view.\n",
    "8. Hide the following fields on the **Sales** table from the report view.\n",
    "    - ProductID\n",
    "    - Date\n",
    "    - Zip\n",
    "    - Units\n",
    "    - Revenue\n",
    "    - Country Name\n",
    "    - CountryZip\n",
    "        - In the navigation pane on the right, click Sales, \n",
    "        - Click the ellipses adjacent to `ProductID` and click `Hide in report view`.\n",
    "        - Click the ellipses adjacent to `Date` and click `Hide in report view`.\n",
    "        - Click the ellipses adjacent to `Zip` and click `Hide in report view`.\n",
    "        - Click the ellipses adjacent to `Units` and click `Hide in report view`.\n",
    "        - Click the ellipses adjacent to `Revenue` and click `Hide in report view`.\n",
    "        - Click the ellipses adjacent to `Country Name` and click `Hide in report view`.\n",
    "        - Click the ellipses adjacent to `CountryZip` and click `Hide in report view`.\n",
    "9. Click `Save`, to save the Power BI file."
   ]
  },
  {
   "cell_type": "code",
   "execution_count": null,
   "metadata": {},
   "outputs": [],
   "source": []
  },
  {
   "cell_type": "code",
   "execution_count": null,
   "metadata": {},
   "outputs": [],
   "source": []
  }
 ],
 "metadata": {
  "kernelspec": {
   "display_name": "Python 3",
   "language": "python",
   "name": "python3"
  },
  "language_info": {
   "codemirror_mode": {
    "name": "ipython",
    "version": 3
   },
   "file_extension": ".py",
   "mimetype": "text/x-python",
   "name": "python",
   "nbconvert_exporter": "python",
   "pygments_lexer": "ipython3",
   "version": "3.6.9"
  },
  "toc-autonumbering": true
 },
 "nbformat": 4,
 "nbformat_minor": 4
}
