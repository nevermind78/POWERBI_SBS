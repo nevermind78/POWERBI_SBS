{
 "cells": [
  {
   "cell_type": "markdown",
   "metadata": {},
   "source": [
    "# SSAS Multidimensional Models(Cubes)"
   ]
  },
  {
   "cell_type": "markdown",
   "metadata": {},
   "source": [
    "## Download and Restore Sample Data\n",
    "\n",
    "1. Download Sample Data warehouse data **AdventureWorksDW2012.bak**\n",
    "\n",
    "    https://github.com/Microsoft/sql-server-samples/releases/download/adventureworks/AdventureWorksDW2012.bak\n",
    "\n",
    "1. Restore Data by following below steps\n",
    "\n",
    "    https://docs.microsoft.com/en-us/sql/samples/adventureworks-install-configure?view=sql-server-ver15#restore-backup"
   ]
  },
  {
   "cell_type": "markdown",
   "metadata": {},
   "source": [
    "## Install SQL Server Analysis Services\n",
    "1. Start > Microsoft SQL Server 2019 > SQL Server 2019 Installation Center (64-bit)\n",
    "1. Click on Installation > New Sql Server Stand alone installation or add Features to existing installation> select c drive > sql2019 folder > Developer_enu\n",
    "    ![](https://github.com/rritec/powerbi/blob/master/images/PBI_0139.png?raw=true)\n",
    "1.  Select Add fetures to an existing instance\n",
    "    ![](https://github.com/rritec/powerbi/blob/master/images/PBI_0140.png?raw=true)\n",
    "1. Select Analysis Service\n",
    "    ![](https://github.com/rritec/powerbi/blob/master/images/PBI_0141.png?raw=true)\n",
    "1. Follow the wizard    \n",
    "\n"
   ]
  },
  {
   "cell_type": "markdown",
   "metadata": {},
   "source": [
    "## Learn Basic of SSAS\n",
    "1. Setup prerequisites\n",
    "\n",
    "    https://docs.microsoft.com/en-us/analysis-services/multidimensional-tutorial/multidimensional-modeling-adventure-works-tutorial?view=asallproducts-allversions#prerequisites\n",
    "\n",
    "1. Complete at least first 2 chapters \n",
    "\n",
    "    https://docs.microsoft.com/en-us/analysis-services/multidimensional-tutorial/multidimensional-modeling-adventure-works-tutorial?view=asallproducts-allversions"
   ]
  },
  {
   "cell_type": "markdown",
   "metadata": {},
   "source": [
    "## Deploy Cube\n",
    "1. Open **SQL Server Data Tools for Visual Studio 2012** > **File** > **Open** > **Project/Solution** > **Lesson 10 Complete** > select **Analysis Services Tutorial.sln** > Click on **open**\n",
    "1. In **Solution Explorer** > Right click on **Analysis Services Tutorial** > Click on **Deploy**"
   ]
  },
  {
   "cell_type": "markdown",
   "metadata": {},
   "source": [
    "## Develop PBI Report using Cube\n",
    "1. Open **PBI Desktop** > **Get Data**> **SQL Server Analysis Service Database**\n",
    "1. Provide **Server** as **localhost** > Select **Connect Live** > Click on **ok**\n",
    "1. Expand **Analysis Service Tutorial** > Select **Sales Summary** > Click on **ok**\n",
    "1. Select **Calendar Date** Hierarchy and **Total Sales Amount**\n",
    "1. Observe Report\n",
    "1. Similarly Develop some other reports\n"
   ]
  },
  {
   "cell_type": "code",
   "execution_count": null,
   "metadata": {},
   "outputs": [],
   "source": []
  }
 ],
 "metadata": {
  "kernelspec": {
   "display_name": "Python 3",
   "language": "python",
   "name": "python3"
  },
  "language_info": {
   "codemirror_mode": {
    "name": "ipython",
    "version": 3
   },
   "file_extension": ".py",
   "mimetype": "text/x-python",
   "name": "python",
   "nbconvert_exporter": "python",
   "pygments_lexer": "ipython3",
   "version": "3.6.9"
  }
 },
 "nbformat": 4,
 "nbformat_minor": 4
}
