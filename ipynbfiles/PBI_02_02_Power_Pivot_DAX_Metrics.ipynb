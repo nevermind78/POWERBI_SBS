{
 "cells": [
  {
   "cell_type": "markdown",
   "metadata": {},
   "source": [
    "# Power Pivot\n",
    "\n",
    "## Data Analysis Expressions (DAX):\n",
    "1. Data Analysis Expressions (DAX) is a library of functions and operators that can be combined to build formulas and expressions in \n",
    "    - Power BI Desktop\n",
    "    - Azure Analysis Services\n",
    "    - SQL Server Analysis Services\n",
    "    - Power Pivot in Excel data models.\n",
    "1. DAX formulas include functions, operators, and values to perform advanced calculations and queries on data in related tables and columns in tabular data models.\n"
   ]
  },
  {
   "cell_type": "markdown",
   "metadata": {},
   "source": [
    "https://docs.microsoft.com/en-us/dax/"
   ]
  },
  {
   "cell_type": "markdown",
   "metadata": {},
   "source": [
    "# DAX Main Types are"
   ]
  },
  {
   "cell_type": "markdown",
   "metadata": {
    "toc-hr-collapsed": true
   },
   "source": [
    "## Date and time functions\n"
   ]
  },
  {
   "cell_type": "markdown",
   "metadata": {},
   "source": [
    "### CALENDAR\n",
    "1. Open PBI Desktop\n",
    "1. Click on **Model** Menu bar\n",
    "1. Click on New Table\n",
    "1. Provide DAX formula as **Calendar = CALENDAR (DATE (2019, 1, 1), DATE (2020, 12, 31))**\n",
    "1. Develop Table Report and observe output.\n",
    "\n",
    "1. Also explore DATE,EOMONTH,DATEDIFF,TODAY"
   ]
  },
  {
   "cell_type": "markdown",
   "metadata": {
    "toc-hr-collapsed": true
   },
   "source": [
    "## Time-intelligence functions"
   ]
  },
  {
   "cell_type": "markdown",
   "metadata": {},
   "source": [
    "### SAMEPERIODLASTYEAR\n",
    "- Refer next lesson "
   ]
  },
  {
   "cell_type": "markdown",
   "metadata": {
    "toc-hr-collapsed": true
   },
   "source": [
    "## Filter functions"
   ]
  },
  {
   "cell_type": "markdown",
   "metadata": {},
   "source": [
    "### CALCULATE\n",
    "- Refer next lesson "
   ]
  },
  {
   "cell_type": "markdown",
   "metadata": {},
   "source": [
    "## Information functions\n",
    "- isblank\n",
    "- iserror\n",
    "- contains\n",
    "- ...etc"
   ]
  },
  {
   "cell_type": "markdown",
   "metadata": {},
   "source": [
    "## Logical functions\n",
    "- and\n",
    "- or\n",
    "- if\n",
    "- ...etc"
   ]
  },
  {
   "cell_type": "markdown",
   "metadata": {},
   "source": [
    "## Math and Trig functions\n",
    "- sin\n",
    "- cos\n",
    "- log\n",
    "- exp\n",
    "- ..etc"
   ]
  },
  {
   "cell_type": "markdown",
   "metadata": {},
   "source": [
    "## Statistical functions\n",
    "- AVERAGE\n",
    "- COUNT\n",
    "- MAX\n",
    "- MIN\n",
    "- ... etc"
   ]
  },
  {
   "cell_type": "code",
   "execution_count": null,
   "metadata": {},
   "outputs": [],
   "source": []
  }
 ],
 "metadata": {
  "kernelspec": {
   "display_name": "Python 3",
   "language": "python",
   "name": "python3"
  },
  "language_info": {
   "codemirror_mode": {
    "name": "ipython",
    "version": 3
   },
   "file_extension": ".py",
   "mimetype": "text/x-python",
   "name": "python",
   "nbconvert_exporter": "python",
   "pygments_lexer": "ipython3",
   "version": "3.6.9"
  }
 },
 "nbformat": 4,
 "nbformat_minor": 4
}
