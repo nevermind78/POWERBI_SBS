{
 "cells": [
  {
   "cell_type": "markdown",
   "metadata": {},
   "source": [
    "# SQL Server Related Installations"
   ]
  },
  {
   "cell_type": "markdown",
   "metadata": {},
   "source": [
    "## Install SQL Server Database\n",
    "\n",
    "1. Download Sqlserver Developer edition https://www.microsoft.com/en-au/sql-server/sql-server-downloads\n",
    "\n",
    "    ![](https://github.com/rritec/powerbi/blob/master/images/PBI_0132.png?raw=true)\n",
    "    \n",
    "1. Run below **.exe** file\n",
    "\n",
    "    ![](https://github.com/rritec/powerbi/blob/master/images/PBI_0126.png?raw=true)\n",
    "1. Click on **Basic**\n",
    "\n",
    "    ![](https://github.com/rritec/powerbi/blob/master/images/PBI_0127.png?raw=true)\n",
    "1. Click on **Accept**\n",
    "\n",
    "    ![](https://github.com/rritec/powerbi/blob/master/images/PBI_0128.png?raw=true)\n",
    "1. Click on **Install**\n",
    "\n",
    "    ![](https://github.com/rritec/powerbi/blob/master/images/PBI_0130.png?raw=true)\n",
    "1. Observe connections info\n",
    "\n",
    "    ![](https://github.com/rritec/powerbi/blob/master/images/PBI_0129.png?raw=true)  \n",
    "1. Test Connection and version\n",
    "\n",
    "    ![](https://github.com/rritec/powerbi/blob/master/images/PBI_0131.png?raw=true)     \n",
    "\n",
    "    "
   ]
  },
  {
   "cell_type": "markdown",
   "metadata": {},
   "source": [
    "## Instal SQL Server Management Studio (SSMS) \n",
    "\n",
    "1. Download Sqlserver Developer edition https://www.microsoft.com/en-au/sql-server/sql-server-downloads\n",
    "1. Double Click on exe file\n",
    "\n",
    "    ![](https://github.com/rritec/powerbi/blob/master/images/PBI_0133.png?raw=true)\n",
    "1.   Click on **Install**\n",
    "\n",
    "   ![](https://github.com/rritec/powerbi/blob/master/images/PBI_0134.png?raw=true)\n",
    "1.   Click on **Restart**\n",
    "\n",
    "   ![](https://github.com/rritec/powerbi/blob/master/images/PBI_0136.png?raw=true)   \n"
   ]
  },
  {
   "cell_type": "markdown",
   "metadata": {},
   "source": [
    "## Instal MSBI (Download SQL Server Data Tools (SSDT))\n",
    "\n",
    "1. Download Sqlserver Developer edition https://www.microsoft.com/en-au/sql-server/sql-server-downloads\n",
    "1. Double Click on exe file\n",
    "\n",
    "    ![](https://github.com/rritec/powerbi/blob/master/images/PBI_0136.png?raw=true)\n",
    "1.   Click on **install**\n",
    "\n",
    "   ![](https://github.com/rritec/powerbi/blob/master/images/PBI_0137.png?raw=true)\n",
    "1.   Click on **install**\n",
    "\n",
    "   ![](https://github.com/rritec/powerbi/blob/master/images/PBI_0138.png?raw=true)   \n"
   ]
  }
 ],
 "metadata": {
  "kernelspec": {
   "display_name": "Python 3",
   "language": "python",
   "name": "python3"
  },
  "language_info": {
   "codemirror_mode": {
    "name": "ipython",
    "version": 3
   },
   "file_extension": ".py",
   "mimetype": "text/x-python",
   "name": "python",
   "nbconvert_exporter": "python",
   "pygments_lexer": "ipython3",
   "version": "3.6.9"
  }
 },
 "nbformat": 4,
 "nbformat_minor": 4
}
