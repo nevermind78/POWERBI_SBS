{
 "cells": [
  {
   "cell_type": "markdown",
   "metadata": {},
   "source": [
    "# Hierarchy"
   ]
  },
  {
   "cell_type": "markdown",
   "metadata": {},
   "source": [
    "- Can you use **drill down/drill up** without **Hierarchy** ?\n",
    "    - <input type=\"radio\" disabled> Yes\n",
    "    - <input type=\"radio\" disabled checked> No\n",
    "- Without Creating Hierarchy, can you drill down from **Category** to **segment** to **product**?   \n",
    "    - <input type=\"radio\"> Yes\n",
    "    - <input type=\"radio\" checked> No"
   ]
  },
  {
   "cell_type": "markdown",
   "metadata": {},
   "source": [
    "## Exercise 1: Develop a report **Total Sales by Category**\n",
    "- from fileds select total Sales and Category columns \n",
    "- select Stacked Column Chart\n",
    "- Click on any bar to  move from category to segmant. Are you able to move ??? no right??? so let us learn how to create hierarchy\n",
    "\n",
    "    ![](https://github.com/rritec/powerbi/blob/master/images/PBI_0049.png?raw=true)"
   ]
  },
  {
   "cell_type": "markdown",
   "metadata": {},
   "source": [
    "## Create Product Hierarchy"
   ]
  },
  {
   "cell_type": "markdown",
   "metadata": {},
   "source": [
    "- In **Fields** Pane\n",
    "- Expand **Product** table\n",
    "- Select **Segment** and drag and drop on to **Category**\n",
    "- Observe one hierarchy created with the name ![](https://github.com/rritec/powerbi/blob/master/images/PBI_0050.png?raw=true)\n",
    "- Rename **Category Hierarchy** as **Product Hierarchy**\n",
    "- Select **product** Column and drop onto **Product Hierarchy**\n",
    "- Finally your hierarchy will be looks like this\n",
    "\n",
    "    ![](https://github.com/rritec/powerbi/blob/master/images/PBI_0053.png?raw=true)\n",
    "\n"
   ]
  },
  {
   "cell_type": "markdown",
   "metadata": {
    "toc-hr-collapsed": false
   },
   "source": [
    "## Understanfd below terms and functionalties\n",
    "    1. Drill Down\n",
    "    2. Drill Up\n",
    "    3. Show Next Level\n",
    "    4. Expand Next Level\n",
    "    \n",
    "   ![](https://github.com/rritec/powerbi/blob/master/images/PBI_0054.png?raw=true)"
   ]
  },
  {
   "cell_type": "markdown",
   "metadata": {},
   "source": [
    "### Drill Down"
   ]
  },
  {
   "cell_type": "markdown",
   "metadata": {},
   "source": [
    "1. In **Visulizations** > Click on **Stacked Column Chart**\n",
    "1. From **Fields** pane > Click on **Total Sales** and **Product Hierarchy** \n",
    "1. Your report should look as shown below\n",
    "\n",
    "    ![](https://github.com/rritec/powerbi/blob/master/images/PBI_0055.png?raw=true)\n",
    "    \n",
    "1. **Click to turn on drill down** as shown below\n",
    "\n",
    "    ![](https://github.com/rritec/powerbi/blob/master/images/PBI_0056.png?raw=true)\n",
    "1. Click on **Urban** bar and observe urban related **Segment** sales\n",
    "\n",
    "    ![](https://github.com/rritec/powerbi/blob/master/images/PBI_0057.png?raw=true)\n",
    "\n"
   ]
  },
  {
   "cell_type": "markdown",
   "metadata": {},
   "source": [
    "### Drill Up\n",
    "1. Click on **Drill Up** to see again **Category** Level Data\n",
    "\n",
    "    ![](https://github.com/rritec/powerbi/blob/master/images/PBI_0058.png?raw=true)"
   ]
  },
  {
   "cell_type": "markdown",
   "metadata": {},
   "source": [
    "### Show Next Level\n",
    "- Rolls data to next level irrespective of category\n",
    "\n",
    "    ![](https://github.com/rritec/powerbi/blob/master/images/PBI_0061.png?raw=true)"
   ]
  },
  {
   "cell_type": "markdown",
   "metadata": {},
   "source": [
    "### Expand Next Level\n",
    "- Shows category-Segment Data\n",
    "    ![](https://github.com/rritec/powerbi/blob/master/images/PBI_0062.png?raw=true)"
   ]
  },
  {
   "cell_type": "code",
   "execution_count": null,
   "metadata": {},
   "outputs": [],
   "source": []
  }
 ],
 "metadata": {
  "kernelspec": {
   "display_name": "Python 3",
   "language": "python",
   "name": "python3"
  },
  "language_info": {
   "codemirror_mode": {
    "name": "ipython",
    "version": 3
   },
   "file_extension": ".py",
   "mimetype": "text/x-python",
   "name": "python",
   "nbconvert_exporter": "python",
   "pygments_lexer": "ipython3",
   "version": "3.6.9"
  }
 },
 "nbformat": 4,
 "nbformat_minor": 4
}
