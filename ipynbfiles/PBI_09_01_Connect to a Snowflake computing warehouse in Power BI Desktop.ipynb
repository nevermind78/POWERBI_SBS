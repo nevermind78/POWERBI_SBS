{
 "cells": [
  {
   "cell_type": "markdown",
   "metadata": {},
   "source": [
    "1. Create **Snowflake** data warehouse\n",
    "    1. Sign up for free account\n",
    "    1. Sign in and browse all options\n",
    "    1. Install snowsql CLI https://sfc-repo.snowflakecomputing.com/snowsql/bootstrap/1.2/index.html\n",
    "    1. https://docs.snowflake.com/en/user-guide/getting-started-tutorial.html#snowflake-in-20-minutes\n",
    "1. Open PBI Desktop\n",
    "1. Connect snowflake\n",
    "\n",
    "    ![](https://github.com/rritec/powerbi/blob/master/images/PBI_0143.png?raw=true)\n",
    "    ![](https://github.com/rritec/powerbi/blob/master/images/PBI_0144.png?raw=true)\n",
    "1. Select Required Table\n",
    "\n",
    "    ![](https://github.com/rritec/powerbi/blob/master/images/PBI_0145.png?raw=true)\n",
    "1. Develop the report\n",
    "\n",
    "    ![](https://github.com/rritec/powerbi/blob/master/images/PBI_0146.png?raw=true)\n"
   ]
  },
  {
   "cell_type": "code",
   "execution_count": null,
   "metadata": {},
   "outputs": [],
   "source": []
  }
 ],
 "metadata": {
  "kernelspec": {
   "display_name": "Python 3",
   "language": "python",
   "name": "python3"
  },
  "language_info": {
   "codemirror_mode": {
    "name": "ipython",
    "version": 3
   },
   "file_extension": ".py",
   "mimetype": "text/x-python",
   "name": "python",
   "nbconvert_exporter": "python",
   "pygments_lexer": "ipython3",
   "version": "3.6.9"
  }
 },
 "nbformat": 4,
 "nbformat_minor": 4
}
