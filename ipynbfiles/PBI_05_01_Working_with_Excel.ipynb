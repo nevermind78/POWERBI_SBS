{
 "cells": [
  {
   "cell_type": "markdown",
   "metadata": {},
   "source": [
    "# Working With Excel"
   ]
  },
  {
   "cell_type": "markdown",
   "metadata": {},
   "source": [
    "## Exercise 1- Upload Excel File with an Excel Table\n",
    "1. Go to https://powerbi.microsoft.com and **sign** in using your account.\n",
    "1. Click **Get Data**, select **Files** and click **Get**.\n",
    "1. Select **Local file**, select **Labdata/Lab5/Lab 5 – Canada.xlsx** from the location that you extracted it to, and click Open.\n",
    "1. Beneath Import Excel data into Power BI click **Import**.\n",
    "1. When the import is complete, click **View dataset**.\n",
    "- Chart 1\n",
    "1. Drag **Revenue** to the report.\n",
    "1. Drag **Year** to the Revenue chart.\n",
    "- Chart 2\n",
    "1. Drag **Units** to the report as a **separate chart**.\n",
    "1. Drag **Year** to the Units chart.\n",
    "- Chart 3\n",
    "1. Drag **Province** to the report as a **separate chart**.\n",
    "1. Drag **Revenue** to the Province chart."
   ]
  },
  {
   "cell_type": "markdown",
   "metadata": {},
   "source": [
    "## Exercise 2- Upload an Excel File with a Data Model\n",
    "\n",
    "1. Go to https://powerbi.microsoft.com and sign in using your account. Note that, for this exercise, you must use a browser that supports Silverlight such as Internet Explorer.\n",
    "1. Click **Get Data**, select Files and click Get. Select Local file, select **Labdata/Lab5/Lab 5 – USA.xlsx** from the location that you extracted it to, and click **Open**.\n",
    "1. Beneath Upload your Excel file to Power BI click **Upload**.\n",
    "1. When the upload is complete click View Workbook, or click Workbooks, and then click **Lab 5 - USA**.\n",
    "1. If the MAKE SELECTION TO PIN pop up appears, click Got it.\n",
    "1. If you do not already have Silverlight, click Install Silverlight and follow the installation instructions for Silverlight. Note that the Silverlight installation must be run as an administrator.\n",
    "1. Develop required reports\n"
   ]
  },
  {
   "cell_type": "markdown",
   "metadata": {},
   "source": [
    "## Exercise 3: Power BI publisher for Excel\n",
    "1. With Microsoft Power BI publisher for Excel, you can take snapshots of your most important insights in Excel, like PivotTables, charts, and ranges and pin them to dashboards in Power BI\n",
    "    ![](https://github.com/rritec/powerbi/blob/master/images/PBI_0076.png?raw=true)\n",
    "1. Download and install\n",
    "    - Power BI publisher for Excel is an add-in you can download and install on desktop versions of Microsoft Excel 2007 and later.\n",
    "\n",
    "    - [Download Power BI publisher for Excel](https://www.microsoft.com/en-us/download/details.aspx?id=50729)\n",
    "1. Once you have the publisher installed, you'll see a new Power BI ribbon in Excel, where you can sign in (or sign out) of Power BI, pin elements to dashboards, and manage elements you've already pinned.\n",
    "    ![](https://github.com/rritec/powerbi/blob/master/images/PBI_0077.png?raw=true)\n",
    "\n",
    "**Steps**\n",
    "1. Open **Labdata/lab5/Lab 5 - USA_for_Power_BI_Publisher.xlsx**\n",
    "1. Click on **Power BI** menu > Click on **Profile** > login\n",
    "1. Select **B4:I12** cells > click on **Pin** > select options as shown \n",
    "    ![](https://github.com/rritec/powerbi/blob/master/images/PBI_0079.png?raw=true)\n",
    "1. Go to power BI Service and observe report\n",
    "1. Similarly **Pin** pie chart\n",
    "    ![](https://github.com/rritec/powerbi/blob/master/images/PBI_0080.png?raw=true)\n"
   ]
  },
  {
   "cell_type": "markdown",
   "metadata": {},
   "source": [
    "## Reference :\n",
    "\n",
    "https://docs.microsoft.com/en-us/power-bi/publisher-for-excel"
   ]
  },
  {
   "cell_type": "code",
   "execution_count": null,
   "metadata": {},
   "outputs": [],
   "source": []
  }
 ],
 "metadata": {
  "kernelspec": {
   "display_name": "Python 3",
   "language": "python",
   "name": "python3"
  },
  "language_info": {
   "codemirror_mode": {
    "name": "ipython",
    "version": 3
   },
   "file_extension": ".py",
   "mimetype": "text/x-python",
   "name": "python",
   "nbconvert_exporter": "python",
   "pygments_lexer": "ipython3",
   "version": "3.6.9"
  },
  "toc-autonumbering": true
 },
 "nbformat": 4,
 "nbformat_minor": 4
}
