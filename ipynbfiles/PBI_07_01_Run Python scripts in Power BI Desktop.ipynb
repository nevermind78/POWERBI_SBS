{
 "cells": [
  {
   "cell_type": "markdown",
   "metadata": {},
   "source": [
    "# Run Python scripts in Power BI Desktop"
   ]
  },
  {
   "cell_type": "markdown",
   "metadata": {},
   "source": [
    "1. Listen videos to learn basics of python https://datahexa.com/course/python-basic-level-1/\n",
    "\n",
    "1. Set up new python environment by listening below video\n",
    "\n",
    "    [![IMAGE ALT TEXT HERE](http://img.youtube.com/vi/HWo1dJTpwOc/0.jpg)](http://www.youtube.com/watch?v=HWo1dJTpwOc)\n",
    "    \n",
    "1. Install below three packages using Anaconda prompt\n",
    "    ```python\n",
    "    pip install numpy\n",
    "    pip install pandas\n",
    "    pip install matplotlib\n",
    "    ```\n",
    "1. Follow this blog\n",
    "    https://docs.microsoft.com/en-us/power-bi/desktop-python-scripts"
   ]
  },
  {
   "cell_type": "code",
   "execution_count": null,
   "metadata": {},
   "outputs": [],
   "source": []
  }
 ],
 "metadata": {
  "kernelspec": {
   "display_name": "Python 3",
   "language": "python",
   "name": "python3"
  },
  "language_info": {
   "codemirror_mode": {
    "name": "ipython",
    "version": 3
   },
   "file_extension": ".py",
   "mimetype": "text/x-python",
   "name": "python",
   "nbconvert_exporter": "python",
   "pygments_lexer": "ipython3",
   "version": "3.6.9"
  }
 },
 "nbformat": 4,
 "nbformat_minor": 4
}
