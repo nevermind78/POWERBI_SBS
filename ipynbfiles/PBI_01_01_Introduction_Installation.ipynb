{
 "cells": [
  {
   "cell_type": "markdown",
   "metadata": {},
   "source": [
    "# Power BI Demo"
   ]
  },
  {
   "cell_type": "markdown",
   "metadata": {},
   "source": [
    "##  What is BI ?\n",
    "1. BI(Business Intelligence) is a processes that convert raw data into meaningful information\n",
    "1. The meaningful information drives profitable business actions"
   ]
  },
  {
   "cell_type": "markdown",
   "metadata": {},
   "source": [
    "## Do you know any BI tools?\n",
    "1. Cognos\n",
    "2. Bo\n",
    "3. OBIEE\n",
    "4. Tableau\n",
    "5. Domo\n",
    "6. Qlick View/Sense\n",
    "7. Power BI\n",
    "... etc"
   ]
  },
  {
   "cell_type": "markdown",
   "metadata": {},
   "source": [
    "### Out of these all BI tools, which is best? why ?\n",
    "- out of above all BI tools power BI is best\n",
    "    - https://powerbi.microsoft.com/en-us/blog/microsoft-named-a-leader-in-gartners-2020-magic-quadrant-for-analytics-and-bi-platforms/\n",
    "    - https://info.microsoft.com/ww-landing-Forrester-Wave-Enterprise-BI-platforms-website.html?LCID=EN-US\n",
    "- price is less\n",
    "    - https://powerbi.microsoft.com/en-us/pricing/\n",
    "    - https://www.tableau.com/pricing/teams-orgs#online\n",
    "\n",
    "    "
   ]
  },
  {
   "cell_type": "markdown",
   "metadata": {},
   "source": [
    "## What is Power BI\n",
    "1. Power BI is a business analytics solution that lets you visualize your data and share insights across your organization, or embed them in your app or website.\n",
    "1. Connect to hundreds of data sources and bring your data to **life** with **live dashboards** and **reports**.\n",
    "1. [Visit for more information](https://powerbi.microsoft.com/en-us/what-is-power-bi/)"
   ]
  },
  {
   "cell_type": "markdown",
   "metadata": {},
   "source": [
    "## Why Power BI\n",
    "1. Create data dashboards and visualizations in **minutes**\n",
    "1. Put BI in everyone’s hands—**economically**\n",
    "1. Unify **self-service** and enterprise analytics\n",
    "1. Accelerate big data prep with **Azure**\n",
    "1. Find answers fast with industry-leading **AI**\n",
    "1. Get unparalleled **Excel** integration\n",
    "1. Turn **insights** into **action**\n",
    "1. **Stream analytics** in **real time**\n",
    "1. [Visit for more information](https://powerbi.microsoft.com/en-us/why-power-bi/)"
   ]
  },
  {
   "cell_type": "markdown",
   "metadata": {},
   "source": [
    "## Do you know Power BI products?\n",
    "1. **Power BI Desktop**\n",
    "    - Create rich,interactive reports with visual analytics at your fingertips\n",
    "    - Go from `data` →  `insight` →  `action` with Power BI Desktop\n",
    "    - Connect to your data, wherever it is\n",
    "    - Prep and model your data with ease\n",
    "    - Provide advanced analytics with the familiarity of Excel\n",
    "    - Create interactive reports customized for your business\n",
    "    - Power BI Desktop is nothing but three tools of excel \n",
    "        - Power Query or Power Query Editor\n",
    "        - Power Pivot\n",
    "        - Power View\n",
    "            - https://support.office.com/en-us/article/power-query-overview-and-learning-ed614c81-4b00-4291-bd3a-55d80767f81d\n",
    "            \n",
    "2. **Power BI Service**(MSFT Cloud)\n",
    "    - Dashboards are developed here\n",
    "    - Conduct data-driven collaboration\n",
    "    - Discover insights quickly\n",
    "    - Get more done with familiar tools\n",
    "    - Govern your data securely\n",
    "3. Power BI Mobile\n",
    "4. Power BI Embedded\n",
    "5. Power BI Report Server\n",
    "        "
   ]
  },
  {
   "cell_type": "markdown",
   "metadata": {},
   "source": [
    "# Install Power BI Desktop\n",
    "- Download software https://www.microsoft.com/en-us/download/details.aspx?id=58494\n",
    "- Run the MSI installer and follow the setup steps    "
   ]
  },
  {
   "cell_type": "markdown",
   "metadata": {},
   "source": [
    "![](https://github.com/rritec/powerbi/blob/master/images/powerbiinstallation9.png?raw=true)\n",
    "![](https://github.com/rritec/powerbi/blob/master/images/powerbiinstallation8.png?raw=true)\n",
    "![](https://github.com/rritec/powerbi/blob/master/images/powerbiinstallation7.png?raw=true)\n",
    "![](https://github.com/rritec/powerbi/blob/master/images/powerbiinstallation6.png?raw=true)\n",
    "![](https://github.com/rritec/powerbi/blob/master/images/powerbiinstallation5.png?raw=true)\n",
    "![](https://github.com/rritec/powerbi/blob/master/images/powerbiinstallation4.png?raw=true)\n",
    "![](https://github.com/rritec/powerbi/blob/master/images/powerbiinstallation3.png?raw=true)\n",
    "![](https://github.com/rritec/powerbi/blob/master/images/powerbiinstallation2.png?raw=true)\n",
    "![](https://github.com/rritec/powerbi/blob/master/images/powerbiinstallation1.png?raw=true)\n",
    "[Reference](https://docs.microsoft.com/en-us/power-bi/desktop-get-the-desktop)"
   ]
  },
  {
   "cell_type": "markdown",
   "metadata": {
    "toc-hr-collapsed": false
   },
   "source": [
    "# MS SQL Installation"
   ]
  },
  {
   "cell_type": "markdown",
   "metadata": {},
   "source": [
    "## Install SQL Server Database\n",
    "\n",
    "1. Download Sqlserver Developer edition https://www.microsoft.com/en-au/sql-server/sql-server-downloads\n",
    "\n",
    "    ![](https://github.com/rritec/powerbi/blob/master/images/PBI_0132.png?raw=true)\n",
    "    \n",
    "1. Run below **.exe** file\n",
    "\n",
    "    ![](https://github.com/rritec/powerbi/blob/master/images/PBI_0126.png?raw=true)\n",
    "1. Click on **Basic**\n",
    "\n",
    "    ![](https://github.com/rritec/powerbi/blob/master/images/PBI_0127.png?raw=true)\n",
    "1. Click on **Accept**\n",
    "\n",
    "    ![](https://github.com/rritec/powerbi/blob/master/images/PBI_0128.png?raw=true)\n",
    "1. Click on **Install**\n",
    "\n",
    "    ![](https://github.com/rritec/powerbi/blob/master/images/PBI_0130.png?raw=true)\n",
    "1. Observe connections info\n",
    "\n",
    "    ![](https://github.com/rritec/powerbi/blob/master/images/PBI_0129.png?raw=true)  \n",
    "1. Test Connection and version\n",
    "\n",
    "    ![](https://github.com/rritec/powerbi/blob/master/images/PBI_0131.png?raw=true)     \n",
    "\n",
    "    "
   ]
  },
  {
   "cell_type": "markdown",
   "metadata": {},
   "source": [
    "## Instal SQL Server Management Studio (SSMS) \n",
    "\n",
    "1. Download Sqlserver Developer edition https://www.microsoft.com/en-au/sql-server/sql-server-downloads\n",
    "1. Double Click on exe file\n",
    "\n",
    "    ![](https://github.com/rritec/powerbi/blob/master/images/PBI_0133.png?raw=true)\n",
    "1.   Click on **Install**\n",
    "\n",
    "   ![](https://github.com/rritec/powerbi/blob/master/images/PBI_0134.png?raw=true)\n",
    "1.   Click on **Restart**\n",
    "\n",
    "   ![](https://github.com/rritec/powerbi/blob/master/images/PBI_0136.png?raw=true)   \n"
   ]
  },
  {
   "cell_type": "markdown",
   "metadata": {},
   "source": [
    "## Instal MSBI (Download SQL Server Data Tools (SSDT))\n",
    "\n",
    "1. Download Sqlserver Developer edition https://www.microsoft.com/en-au/sql-server/sql-server-downloads\n",
    "\n",
    "direct link : https://docs.microsoft.com/en-us/sql/ssdt/download-sql-server-data-tools-ssdt?view=sql-server-ver15#ssdt-for-vs-2017-standalone-installer\n",
    "\n",
    "1. Double Click on exe file\n",
    "\n",
    "    ![](https://github.com/rritec/powerbi/blob/master/images/PBI_0136.png?raw=true)\n",
    "1.   Click on **install**\n",
    "\n",
    "   ![](https://github.com/rritec/powerbi/blob/master/images/PBI_0137.png?raw=true)\n",
    "1.   Click on **install**\n",
    "\n",
    "   ![](https://github.com/rritec/powerbi/blob/master/images/PBI_0138.png?raw=true)   \n"
   ]
  },
  {
   "cell_type": "markdown",
   "metadata": {},
   "source": [
    "## optional\n",
    "\n",
    "1. Follow below link download and restore sample data **AdventureWorksDW2012.bak**\n",
    "https://docs.microsoft.com/en-us/sql/samples/adventureworks-install-configure?view=sql-server-ver15"
   ]
  },
  {
   "cell_type": "markdown",
   "metadata": {},
   "source": [
    "# MySql Installation\n",
    "https://dev.mysql.com/doc/refman/8.0/en/windows-installation.html"
   ]
  }
 ],
 "metadata": {
  "kernelspec": {
   "display_name": "Python 3",
   "language": "python",
   "name": "python3"
  },
  "language_info": {
   "codemirror_mode": {
    "name": "ipython",
    "version": 3
   },
   "file_extension": ".py",
   "mimetype": "text/x-python",
   "name": "python",
   "nbconvert_exporter": "python",
   "pygments_lexer": "ipython3",
   "version": "3.6.9"
  },
  "toc-autonumbering": true
 },
 "nbformat": 4,
 "nbformat_minor": 4
}
