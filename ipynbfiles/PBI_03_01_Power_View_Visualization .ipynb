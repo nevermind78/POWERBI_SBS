{
 "cells": [
  {
   "cell_type": "markdown",
   "metadata": {},
   "source": [
    "# Power BI Desktop Visualization "
   ]
  },
  {
   "cell_type": "markdown",
   "metadata": {},
   "source": [
    "## Exercise 1- Cross-Tabular Report\n",
    "- **Scenario:** You want to show VanArsdel's sales (revenue) and units for each month and year in a single report. You choose to show this using two Matrix visualizations."
   ]
  },
  {
   "cell_type": "markdown",
   "metadata": {},
   "source": [
    "1. Open file **Labdata/Lab3/Lab 3 - Starting.pbix** file.\n",
    "1. In the navigation pane on the left, click **Report**.\n",
    "1. In the **FIELDS** list, on the right, click the **Sales** table.\n",
    "1. Drag the **Total Sales** field from the **Sales** table to the report to create a chart.\n",
    "1. In the FIELDS list, on the right, click the **Date** table.\n",
    "1. Drag the **MonthName** and **Year** fields from the **Date** table to the chart.\n",
    "1. In the **VISUALIZATIONS** list, click **Matrix**.\n",
    "1. In the **VISUALIZATIONS** list, in **Rows**, select **MonthName**, in **Columns**, select **Year**, and in **Values**, select **Total Sales**.\n",
    "1. Click in the empty space of report\n",
    "1. Repeat Step 3 to 8 to add another chart, but this time, display the **Total Units** field in place of **Total Sales**.\n",
    "1. From the **Home** ribbon, click **Text** box.\n",
    "1. In the text box, type **VanArsdel Sales and Units** and resize and move the text box so that it appears as the title of the report.\n",
    "1. At the bottom of the screen, right-click **Page 1**, and click **Rename** Page.\n",
    "1. Type **Sales and Units** and press **Enter**.\n",
    "1. You should have something similar to the below Image:\n",
    "![](https://github.com/rritec/powerbi/blob/master/images/PBI_0023.png?raw=true)\n",
    "1. Click **Save**, to save the Power BI file.    "
   ]
  },
  {
   "cell_type": "markdown",
   "metadata": {},
   "source": [
    "## Exercise 2- Part-to-Whole Report\n",
    "**Scenario:** analyzing sales data by product category, segment and manufacturer."
   ]
  },
  {
   "cell_type": "markdown",
   "metadata": {},
   "source": [
    "1. Create a new report page by clicking **New Page (+)** at the bottom of the report view.\n",
    "1. Drag the **Total Sales** field from the **Sales** table to the report and create a chart.\n",
    "1. Drag the **Category** and **Segment** fields from the **Products** table to the chart.\n",
    "1. In the **VISUALIZATIONS** list, click **100% Stacked Bar Chart** .\n",
    "1. In the **VISUALIZATIONS** list, in **Axis**, select **Category**, in **Legend**, select **Segment**, and in **Value**, select **Total Sales**.\n",
    "1. In the **VISUALIZATIONS** list, click the **Format** button.\n",
    "1. Set **Data labels** to **On**.\n",
    "1. Set **Value decimal places** to **0**.\n",
    "1. Click on the empty space of report\n",
    "1. Drag the **Total Sales** field from the **Sales** table to the report and create another chart.\n",
    "1. Drag the **Manufacturer** field from the **Manufacturers** table to the chart.\n",
    "1. Modify the chart to use the **Treemap visualization**.\n",
    "1. Click on the empty space of report\n",
    "1. Drag the **MonthName** field from the **Date** table to the report and create another chart.\n",
    "1. Modify the chart to use the **Slicer visualization**.\n",
    "1. Click on the empty space of report\n",
    "1. Drag the **Year** field from the **Date** table to the report and create a chart.\n",
    "1. Modify the chart to use the **Slicer visualization**.\n",
    "1. Rename the report sheet to **Sales Breakdown**.\n",
    "1. Click **Save**, to save the Power BI file.\n",
    "1. You should have something similar to the below image:\n",
    "\n",
    "![](https://github.com/rritec/powerbi/blob/master/images/PBI_0024.png?raw=true)"
   ]
  },
  {
   "cell_type": "markdown",
   "metadata": {},
   "source": [
    "## Exercise 3- Relationship Report\n",
    "\n",
    "- **Scenario:** You would like to know more about the relationship between total units and total sales by category and segment. You choose to analyze this using scatter chart."
   ]
  },
  {
   "cell_type": "markdown",
   "metadata": {},
   "source": [
    "1. Create a new report page by clicking **New Page** at the bottom of the report view.\n",
    "1. In **VISUALIZATIONS**, click **Scatter Chart**.\n",
    "1. Drag the **Total Sales**, **Total Units**, and **YTD Sales** fields from the **Sales** table to the chart.\n",
    "1. Drag the **Category** and **Segment** fields from the **Products** table to the chart.\n",
    "1. Drag the **Year** field from the **Date** table to the chart.\n",
    "1. Rename the report sheet to **Sales Relationship**.\n",
    "1. Ensure that the following fields are set in the visualization Details:\n",
    "    - Details: Category\n",
    "    - Legend: Segment\n",
    "    - X Axis: Total Sales\n",
    "    - Y Axis: Total Units\n",
    "    - Size: YTD Sales\n",
    "    - Play Axis: Year\n",
    "1. Click **Save**, to save the Power BI file.\n",
    "1. You should have something similar to the below image:\n",
    "![](https://github.com/rritec/powerbi/blob/master/images/PBI_0025.png?raw=true)"
   ]
  },
  {
   "cell_type": "markdown",
   "metadata": {},
   "source": [
    "## Exercise 4- Trend Report\n",
    "**Scenario:** Show a chart to compare Total Sales and Total Units throughout the years. And then let's show two more charts showing the Total Sales and Total Units variances throughout the years."
   ]
  },
  {
   "cell_type": "markdown",
   "metadata": {},
   "source": [
    "1. Create a new report page by clicking the **New Page** icon at the bottom of the report view.\n",
    "1. Drag the **Year** field from the **Date** table to the report and create the first chart.\n",
    "1. Drag the **Total Sales** and **Total Units** fields from the **Sales** table to the Year chart.\n",
    "1. Modify the chart to use the **Line and Stacked Column Chart** visualization.\n",
    "1. Ensure that the **Year** is shown as the **Shared Axis**, **Total Sales** is shown as the **Column values**, and **Total Units** is shown as the **Line values** of the visualization Details.\n",
    "----\n",
    "1. Create a second chart based on the **Waterfall** Chart visualization.\n",
    "1. Drag the **Sales Var** field from the **Sales** table to the Sales Var chart.\n",
    "1. Drag the **Year** field from the **Date** table to the Sales Var chart.\n",
    "---\n",
    "1. Create a third chart, also based on the Waterfall Chart visualization.\n",
    "1. Drag the **Total Units Var** field from the **Sales** table to the Total Units Var chart.\n",
    "1. Drag the **Year** field from the **Date** table to the Total Units Var chart.\n",
    "1. Click the Elipse button on both the Sales Var and Total Units Var charts and sort by **Year** ascending.\n",
    "1. Add a **Text Box** to the report and enter **Yearly Trend** as the text.\n",
    "1. Rename the report sheet to **Yearly Trend**.\n",
    "1. Click **Save**, to save the Power BI file.\n",
    "1. You should have something similar to the below image:\n",
    "\n",
    "![](https://github.com/rritec/powerbi/blob/master/images/PBI_0026.png?raw=true)"
   ]
  },
  {
   "cell_type": "markdown",
   "metadata": {},
   "source": [
    "## Exercise 5- Rank Report\n",
    "**Scenario:** You now want to analyze individual products sales (revenue) and volume (units). You decide to show these using two bar charts."
   ]
  },
  {
   "cell_type": "markdown",
   "metadata": {},
   "source": [
    "1. Create a new report page by clicking the **New Page** icon at the bottom of the report view.\n",
    "1. Drag the **Total Sales** field from the **Sales** table to the report and create a chart.\n",
    "1. Drag the **Product** field from the **Products** table to the chart.\n",
    "1. Modify the chart to use the **Stacked Bar Chart** visualization.\n",
    "1. Ensure that the chart is sorted by **Total Sales**.\n",
    "----\n",
    "1. Click on empty space of report\n",
    "1. Drag the **Total Units** field from the **Sales** table to the report and create a new chart.\n",
    "1. Drag the **Product** field from the **Products** table to the chart.\n",
    "1. Modify the chart to use the **Stacked Bar Chart** visualization.\n",
    "1. Ensure that the chart is sorted by **Total Units**.\n",
    "-----\n",
    "1. Click on empty space of report\n",
    "1. Drag the **Year** field from the **Date** table to the report and create a new chart.\n",
    "1. Modify the chart to use the **Slicer visualization**.\n",
    "1. Modify the slicer type by clicking the **dropdown** arrow in the Year chart and selecting the **List** option.\n",
    "1. Add a **Text Box** to the report and enter **Top Products** as the text.\n",
    "1. Rename the report sheet to **Top Products**.\n",
    "1. Click **Save**, to save the Power BI file.\n",
    "1. You should have something similar to the below image:\n",
    "![](https://github.com/rritec/powerbi/blob/master/images/PBI_0027.png?raw=true)"
   ]
  },
  {
   "cell_type": "markdown",
   "metadata": {},
   "source": [
    "## Reference\n",
    "\n",
    "https://docs.microsoft.com/en-us/power-bi/visuals/power-bi-report-visualizations"
   ]
  },
  {
   "cell_type": "code",
   "execution_count": null,
   "metadata": {},
   "outputs": [],
   "source": []
  }
 ],
 "metadata": {
  "kernelspec": {
   "display_name": "Python 3",
   "language": "python",
   "name": "python3"
  },
  "language_info": {
   "codemirror_mode": {
    "name": "ipython",
    "version": 3
   },
   "file_extension": ".py",
   "mimetype": "text/x-python",
   "name": "python",
   "nbconvert_exporter": "python",
   "pygments_lexer": "ipython3",
   "version": "3.6.9"
  }
 },
 "nbformat": 4,
 "nbformat_minor": 4
}
